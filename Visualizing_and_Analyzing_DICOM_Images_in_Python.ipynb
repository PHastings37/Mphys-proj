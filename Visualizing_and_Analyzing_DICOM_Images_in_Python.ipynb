{
  "nbformat": 4,
  "nbformat_minor": 0,
  "metadata": {
    "colab": {
      "name": "Visualizing and Analyzing DICOM Images in Python.ipynb",
      "provenance": [],
      "collapsed_sections": [],
      "authorship_tag": "ABX9TyN9VKDJdf6zNq4GtqrJJJQ+",
      "include_colab_link": true
    },
    "kernelspec": {
      "name": "python3",
      "display_name": "Python 3"
    },
    "language_info": {
      "name": "python"
    },
    "accelerator": "GPU"
  },
  "cells": [
    {
      "cell_type": "markdown",
      "metadata": {
        "id": "view-in-github",
        "colab_type": "text"
      },
      "source": [
        "<a href=\"https://colab.research.google.com/github/PHastings37/Mphys-proj/blob/main/Visualizing_and_Analyzing_DICOM_Images_in_Python.ipynb\" target=\"_parent\"><img src=\"https://colab.research.google.com/assets/colab-badge.svg\" alt=\"Open In Colab\"/></a>"
      ]
    },
    {
      "cell_type": "markdown",
      "metadata": {
        "id": "nmtV_qpp9Ldx"
      },
      "source": [
        "RORY FARWELL 16/10/2021\n",
        "\n",
        "This is the basis/beginning code for my project. In aid of Google Drive storage space saving, I have only uploaded 10 patients worth of data (in order that they were downloaded from using the 'NBIA Data Retreiver' app. To avoid any confusion, the data set being used by me is the NSCLC-Radiomics set from TCIA.\n",
        "\n",
        "Using information provided on the site : https://hengloose.medium.com/a-comprehensive-starter-guide-to-visualizing-and-analyzing-dicom-images-in-python-7a8430fcb7ed .\n",
        "\n",
        "Note to self: another useful site, which may be useful later on is : https://towardsdatascience.com/a-python-script-to-sort-dicom-files-f1623a7f40b8 ."
      ]
    },
    {
      "cell_type": "code",
      "metadata": {
        "colab": {
          "base_uri": "https://localhost:8080/"
        },
        "id": "A1BFdrlJB13f",
        "outputId": "3cf0b76f-273e-415d-badb-ce94834d0705"
      },
      "source": [
        "\"\"\"\n",
        "The first two cells connect this Colab Notebook to your drive and then sets the path to your files\n",
        "\n",
        "\"\"\"\n",
        "\n",
        "from google.colab import drive\n",
        "drive.mount('/content/gdrive')"
      ],
      "execution_count": 13,
      "outputs": [
        {
          "output_type": "stream",
          "name": "stdout",
          "text": [
            "Drive already mounted at /content/gdrive; to attempt to forcibly remount, call drive.mount(\"/content/gdrive\", force_remount=True).\n"
          ]
        }
      ]
    },
    {
      "cell_type": "code",
      "metadata": {
        "colab": {
          "base_uri": "https://localhost:8080/"
        },
        "id": "DTnemdGPB7VR",
        "outputId": "db009b0b-019e-4189-cf09-8e78bb9a16d0"
      },
      "source": [
        "\"\"\"\n",
        "NOTE : You may need to change this path to match the path of your own\n",
        "Google Drive\n",
        "\"\"\"\n",
        "%cd /content/gdrive/MyDrive/MPhys/dicom-files"
      ],
      "execution_count": 41,
      "outputs": [
        {
          "output_type": "stream",
          "name": "stdout",
          "text": [
            "/content/gdrive/MyDrive/MPhys/dicom-files\n"
          ]
        }
      ]
    },
    {
      "cell_type": "code",
      "metadata": {
        "id": "dBevfjnV9H8x",
        "colab": {
          "base_uri": "https://localhost:8080/"
        },
        "outputId": "126c85ec-a93d-4dd9-af6a-ad89fa783d6e"
      },
      "source": [
        "\"\"\"\n",
        "This cell downloads all the required packages for this process.\n",
        "These are \n",
        "\n",
        "pydicom -> for reading DICOM files\n",
        "numpy -> for computing applications\n",
        "scipy -> also for computing applications\n",
        "skimage -> for image processing functions\n",
        "matplotlib -> for visualizations\n",
        "plotly -> for interactive visualisations !!!NOT DONE NOW AS THIS REQUIRES A \n",
        "SIGN UP!!!\n",
        "ipywidget -> for interactive plots\n",
        "\n",
        "\"\"\"\n",
        "!pip install pydicom\n",
        "!pip install numpy\n",
        "!pip install scipy\n",
        "!pip install scikit-image\n",
        "!pip install matplotlib\n",
        "!pip install ipywidgets"
      ],
      "execution_count": 18,
      "outputs": [
        {
          "output_type": "stream",
          "name": "stdout",
          "text": [
            "Requirement already satisfied: pydicom in /usr/local/lib/python3.7/dist-packages (2.2.2)\n",
            "Requirement already satisfied: numpy in /usr/local/lib/python3.7/dist-packages (1.19.5)\n",
            "Requirement already satisfied: scipy in /usr/local/lib/python3.7/dist-packages (1.4.1)\n",
            "Requirement already satisfied: numpy>=1.13.3 in /usr/local/lib/python3.7/dist-packages (from scipy) (1.19.5)\n",
            "Requirement already satisfied: scikit-image in /usr/local/lib/python3.7/dist-packages (0.16.2)\n",
            "Requirement already satisfied: imageio>=2.3.0 in /usr/local/lib/python3.7/dist-packages (from scikit-image) (2.4.1)\n",
            "Requirement already satisfied: pillow>=4.3.0 in /usr/local/lib/python3.7/dist-packages (from scikit-image) (7.1.2)\n",
            "Requirement already satisfied: networkx>=2.0 in /usr/local/lib/python3.7/dist-packages (from scikit-image) (2.6.3)\n",
            "Requirement already satisfied: scipy>=0.19.0 in /usr/local/lib/python3.7/dist-packages (from scikit-image) (1.4.1)\n",
            "Requirement already satisfied: matplotlib!=3.0.0,>=2.0.0 in /usr/local/lib/python3.7/dist-packages (from scikit-image) (3.2.2)\n",
            "Requirement already satisfied: PyWavelets>=0.4.0 in /usr/local/lib/python3.7/dist-packages (from scikit-image) (1.1.1)\n",
            "Requirement already satisfied: numpy in /usr/local/lib/python3.7/dist-packages (from imageio>=2.3.0->scikit-image) (1.19.5)\n",
            "Requirement already satisfied: cycler>=0.10 in /usr/local/lib/python3.7/dist-packages (from matplotlib!=3.0.0,>=2.0.0->scikit-image) (0.10.0)\n",
            "Requirement already satisfied: python-dateutil>=2.1 in /usr/local/lib/python3.7/dist-packages (from matplotlib!=3.0.0,>=2.0.0->scikit-image) (2.8.2)\n",
            "Requirement already satisfied: kiwisolver>=1.0.1 in /usr/local/lib/python3.7/dist-packages (from matplotlib!=3.0.0,>=2.0.0->scikit-image) (1.3.2)\n",
            "Requirement already satisfied: pyparsing!=2.0.4,!=2.1.2,!=2.1.6,>=2.0.1 in /usr/local/lib/python3.7/dist-packages (from matplotlib!=3.0.0,>=2.0.0->scikit-image) (2.4.7)\n",
            "Requirement already satisfied: six in /usr/local/lib/python3.7/dist-packages (from cycler>=0.10->matplotlib!=3.0.0,>=2.0.0->scikit-image) (1.15.0)\n",
            "Requirement already satisfied: matplotlib in /usr/local/lib/python3.7/dist-packages (3.2.2)\n",
            "Requirement already satisfied: cycler>=0.10 in /usr/local/lib/python3.7/dist-packages (from matplotlib) (0.10.0)\n",
            "Requirement already satisfied: numpy>=1.11 in /usr/local/lib/python3.7/dist-packages (from matplotlib) (1.19.5)\n",
            "Requirement already satisfied: python-dateutil>=2.1 in /usr/local/lib/python3.7/dist-packages (from matplotlib) (2.8.2)\n",
            "Requirement already satisfied: kiwisolver>=1.0.1 in /usr/local/lib/python3.7/dist-packages (from matplotlib) (1.3.2)\n",
            "Requirement already satisfied: pyparsing!=2.0.4,!=2.1.2,!=2.1.6,>=2.0.1 in /usr/local/lib/python3.7/dist-packages (from matplotlib) (2.4.7)\n",
            "Requirement already satisfied: six in /usr/local/lib/python3.7/dist-packages (from cycler>=0.10->matplotlib) (1.15.0)\n",
            "Requirement already satisfied: ipywidgets in /usr/local/lib/python3.7/dist-packages (7.6.5)\n",
            "Requirement already satisfied: ipykernel>=4.5.1 in /usr/local/lib/python3.7/dist-packages (from ipywidgets) (4.10.1)\n",
            "Requirement already satisfied: jupyterlab-widgets>=1.0.0 in /usr/local/lib/python3.7/dist-packages (from ipywidgets) (1.0.2)\n",
            "Requirement already satisfied: traitlets>=4.3.1 in /usr/local/lib/python3.7/dist-packages (from ipywidgets) (5.1.0)\n",
            "Requirement already satisfied: nbformat>=4.2.0 in /usr/local/lib/python3.7/dist-packages (from ipywidgets) (5.1.3)\n",
            "Requirement already satisfied: ipython-genutils~=0.2.0 in /usr/local/lib/python3.7/dist-packages (from ipywidgets) (0.2.0)\n",
            "Requirement already satisfied: ipython>=4.0.0 in /usr/local/lib/python3.7/dist-packages (from ipywidgets) (5.5.0)\n",
            "Requirement already satisfied: widgetsnbextension~=3.5.0 in /usr/local/lib/python3.7/dist-packages (from ipywidgets) (3.5.1)\n",
            "Requirement already satisfied: jupyter-client in /usr/local/lib/python3.7/dist-packages (from ipykernel>=4.5.1->ipywidgets) (5.3.5)\n",
            "Requirement already satisfied: tornado>=4.0 in /usr/local/lib/python3.7/dist-packages (from ipykernel>=4.5.1->ipywidgets) (5.1.1)\n",
            "Requirement already satisfied: decorator in /usr/local/lib/python3.7/dist-packages (from ipython>=4.0.0->ipywidgets) (4.4.2)\n",
            "Requirement already satisfied: simplegeneric>0.8 in /usr/local/lib/python3.7/dist-packages (from ipython>=4.0.0->ipywidgets) (0.8.1)\n",
            "Requirement already satisfied: prompt-toolkit<2.0.0,>=1.0.4 in /usr/local/lib/python3.7/dist-packages (from ipython>=4.0.0->ipywidgets) (1.0.18)\n",
            "Requirement already satisfied: setuptools>=18.5 in /usr/local/lib/python3.7/dist-packages (from ipython>=4.0.0->ipywidgets) (57.4.0)\n",
            "Requirement already satisfied: pygments in /usr/local/lib/python3.7/dist-packages (from ipython>=4.0.0->ipywidgets) (2.6.1)\n",
            "Requirement already satisfied: pickleshare in /usr/local/lib/python3.7/dist-packages (from ipython>=4.0.0->ipywidgets) (0.7.5)\n",
            "Requirement already satisfied: pexpect in /usr/local/lib/python3.7/dist-packages (from ipython>=4.0.0->ipywidgets) (4.8.0)\n",
            "Requirement already satisfied: jupyter-core in /usr/local/lib/python3.7/dist-packages (from nbformat>=4.2.0->ipywidgets) (4.8.1)\n",
            "Requirement already satisfied: jsonschema!=2.5.0,>=2.4 in /usr/local/lib/python3.7/dist-packages (from nbformat>=4.2.0->ipywidgets) (2.6.0)\n",
            "Requirement already satisfied: wcwidth in /usr/local/lib/python3.7/dist-packages (from prompt-toolkit<2.0.0,>=1.0.4->ipython>=4.0.0->ipywidgets) (0.2.5)\n",
            "Requirement already satisfied: six>=1.9.0 in /usr/local/lib/python3.7/dist-packages (from prompt-toolkit<2.0.0,>=1.0.4->ipython>=4.0.0->ipywidgets) (1.15.0)\n",
            "Requirement already satisfied: notebook>=4.4.1 in /usr/local/lib/python3.7/dist-packages (from widgetsnbextension~=3.5.0->ipywidgets) (5.3.1)\n",
            "Requirement already satisfied: Send2Trash in /usr/local/lib/python3.7/dist-packages (from notebook>=4.4.1->widgetsnbextension~=3.5.0->ipywidgets) (1.8.0)\n",
            "Requirement already satisfied: terminado>=0.8.1 in /usr/local/lib/python3.7/dist-packages (from notebook>=4.4.1->widgetsnbextension~=3.5.0->ipywidgets) (0.12.1)\n",
            "Requirement already satisfied: jinja2 in /usr/local/lib/python3.7/dist-packages (from notebook>=4.4.1->widgetsnbextension~=3.5.0->ipywidgets) (2.11.3)\n",
            "Requirement already satisfied: nbconvert in /usr/local/lib/python3.7/dist-packages (from notebook>=4.4.1->widgetsnbextension~=3.5.0->ipywidgets) (5.6.1)\n",
            "Requirement already satisfied: python-dateutil>=2.1 in /usr/local/lib/python3.7/dist-packages (from jupyter-client->ipykernel>=4.5.1->ipywidgets) (2.8.2)\n",
            "Requirement already satisfied: pyzmq>=13 in /usr/local/lib/python3.7/dist-packages (from jupyter-client->ipykernel>=4.5.1->ipywidgets) (22.3.0)\n",
            "Requirement already satisfied: ptyprocess in /usr/local/lib/python3.7/dist-packages (from terminado>=0.8.1->notebook>=4.4.1->widgetsnbextension~=3.5.0->ipywidgets) (0.7.0)\n",
            "Requirement already satisfied: MarkupSafe>=0.23 in /usr/local/lib/python3.7/dist-packages (from jinja2->notebook>=4.4.1->widgetsnbextension~=3.5.0->ipywidgets) (2.0.1)\n",
            "Requirement already satisfied: defusedxml in /usr/local/lib/python3.7/dist-packages (from nbconvert->notebook>=4.4.1->widgetsnbextension~=3.5.0->ipywidgets) (0.7.1)\n",
            "Requirement already satisfied: testpath in /usr/local/lib/python3.7/dist-packages (from nbconvert->notebook>=4.4.1->widgetsnbextension~=3.5.0->ipywidgets) (0.5.0)\n",
            "Requirement already satisfied: mistune<2,>=0.8.1 in /usr/local/lib/python3.7/dist-packages (from nbconvert->notebook>=4.4.1->widgetsnbextension~=3.5.0->ipywidgets) (0.8.4)\n",
            "Requirement already satisfied: entrypoints>=0.2.2 in /usr/local/lib/python3.7/dist-packages (from nbconvert->notebook>=4.4.1->widgetsnbextension~=3.5.0->ipywidgets) (0.3)\n",
            "Requirement already satisfied: bleach in /usr/local/lib/python3.7/dist-packages (from nbconvert->notebook>=4.4.1->widgetsnbextension~=3.5.0->ipywidgets) (4.1.0)\n",
            "Requirement already satisfied: pandocfilters>=1.4.1 in /usr/local/lib/python3.7/dist-packages (from nbconvert->notebook>=4.4.1->widgetsnbextension~=3.5.0->ipywidgets) (1.5.0)\n",
            "Requirement already satisfied: webencodings in /usr/local/lib/python3.7/dist-packages (from bleach->nbconvert->notebook>=4.4.1->widgetsnbextension~=3.5.0->ipywidgets) (0.5.1)\n",
            "Requirement already satisfied: packaging in /usr/local/lib/python3.7/dist-packages (from bleach->nbconvert->notebook>=4.4.1->widgetsnbextension~=3.5.0->ipywidgets) (21.0)\n",
            "Requirement already satisfied: pyparsing>=2.0.2 in /usr/local/lib/python3.7/dist-packages (from packaging->bleach->nbconvert->notebook>=4.4.1->widgetsnbextension~=3.5.0->ipywidgets) (2.4.7)\n"
          ]
        }
      ]
    },
    {
      "cell_type": "code",
      "metadata": {
        "id": "mLD6jWvA_B7g",
        "colab": {
          "base_uri": "https://localhost:8080/",
          "height": 54
        },
        "outputId": "73a6fe97-9a17-4b8f-81e1-a8bc115e1899"
      },
      "source": [
        "\"\"\"\n",
        "This cell imports all the necessary packages\n",
        "\n",
        "NOTE: plotly code not in use as this required a sign up process. \n",
        "Can perform this later on.\n",
        "\"\"\"\n",
        "\n",
        "# common packages\n",
        "import numpy as np\n",
        "import os\n",
        "import copy\n",
        "from math import *\n",
        "import matplotlib.pyplot as plt\n",
        "from functools import reduce\n",
        "\n",
        "# for reading DICOM files\n",
        "import pydicom\n",
        "\n",
        "# skimage image processing packages\n",
        "from skimage import measure, morphology\n",
        "from skimage.morphology import ball, binary_closing\n",
        "from skimage.measure import label, regionprops\n",
        "\n",
        "# scipy linear algebra functions\n",
        "from scipy.linalg import norm\n",
        "import scipy.ndimage\n",
        "\n",
        "# ipywidgets for some interactive plots\n",
        "from ipywidgets.widgets import * \n",
        "import ipywidgets as widgets\n",
        "\n",
        "\"\"\"# plotly 3D interactive graphs \n",
        "import plotly\n",
        "from plotly.graph_objs import *\n",
        "import chart_studio.plotly as py\n",
        "\n",
        "# set plotly credentials here \n",
        "# this allows you to send results to your account\n",
        "# plotly.tools.set_credentials_file(username=your_username, api_key=your_key)\n",
        "\"\"\""
      ],
      "execution_count": 19,
      "outputs": [
        {
          "output_type": "execute_result",
          "data": {
            "application/vnd.google.colaboratory.intrinsic+json": {
              "type": "string"
            },
            "text/plain": [
              "'# plotly 3D interactive graphs \\nimport plotly\\nfrom plotly.graph_objs import *\\nimport chart_studio.plotly as py\\n\\n# set plotly credentials here \\n# this allows you to send results to your account\\n# plotly.tools.set_credentials_file(username=your_username, api_key=your_key)\\n'"
            ]
          },
          "metadata": {},
          "execution_count": 19
        }
      ]
    },
    {
      "cell_type": "code",
      "metadata": {
        "id": "D-QJP4bR_6Nt"
      },
      "source": [
        "\"\"\"\n",
        "This cell will load in DICOM images\n",
        "\"\"\"\n",
        "\n",
        "def load_scan(path):\n",
        "    slices = [pydicom.dcmread(path + '/' + s) for s in               \n",
        "              os.listdir(path)]\n",
        "    slices = [s for s in slices if 'SliceLocation' in s]\n",
        "    slices.sort(key = lambda x: int(x.InstanceNumber))\n",
        "    try:\n",
        "        slice_thickness = np.abs(slices[0].ImagePositionPatient[2] -   \n",
        "                          slices[1].ImagePositionPatient[2])\n",
        "    except:\n",
        "      slice_thickness = np.abs(slices[0].SliceLocation - \n",
        "                      slices[1].SliceLocation)\n",
        "    for s in slices:\n",
        "        s.SliceThickness = slice_thickness\n",
        "    return slices\n",
        "\n",
        "def get_pixels_hu(scans):\n",
        "    image = np.stack([s.pixel_array for s in scans])\n",
        "    image = image.astype(np.int16)    # Set outside-of-scan pixels to 0\n",
        "    # The intercept is usually -1024, so air is approximately 0\n",
        "    image[image == -2000] = 0\n",
        "    \n",
        "    # Convert to Hounsfield units (HU)\n",
        "    intercept = scans[0].RescaleIntercept\n",
        "    slope = scans[0].RescaleSlope\n",
        "    \n",
        "    if slope != 1:\n",
        "        image = slope * image.astype(np.float64)\n",
        "        image = image.astype(np.int16)\n",
        "        \n",
        "    image += np.int16(intercept)\n",
        "    \n",
        "    return np.array(image, dtype=np.int16)"
      ],
      "execution_count": 24,
      "outputs": []
    },
    {
      "cell_type": "code",
      "metadata": {
        "id": "t3-7Vpi7BV85",
        "colab": {
          "base_uri": "https://localhost:8080/",
          "height": 1000
        },
        "outputId": "4efe91c0-811f-44c6-c5f3-a1ff91d152d0"
      },
      "source": [
        "\"\"\"\n",
        "Run this cell to extract DICOM pixels for each slice location and displaye \n",
        "a single slice\n",
        "\n",
        "This has been adapted to print the data from the 1st DICOM file and gives the \n",
        "user the option to print all CTs in a grid if desired. This option is taken \n",
        "through editing of the code. \n",
        "\n",
        "\n",
        "\n",
        "!!!\n",
        "WORKS WHEN USING THE 'one-dcm-file' FOLDER BUT NOT WHEN USING THE REAL FOLDERS. \n",
        "UNSURE WHY.\n",
        "\n",
        "MAYBE COULD ADD AN INPUT TO ASK THE USER WHICH CT THEY WANT TO SEE. E.G. PICK A\n",
        "NUMBER BETWEEN 0 AND 133.\n",
        "!!!\n",
        "\"\"\"\n",
        "\n",
        "# set path and load files \n",
        "path = '/content/gdrive/MyDrive/MPhys/dicom-files/One-dcm-file' #set this as the path to your dicom directory\n",
        "patient_dicom = load_scan(path)\n",
        "patient_pixels = get_pixels_hu(patient_dicom)\n",
        "\n",
        "#sanity check\n",
        "plt.imshow(patient_pixels[0], cmap=plt.cm.bone) #prints the first scan ith scan in the array\n",
        "\n",
        "\n",
        "print(patient_dicom[0]) #prints the DICOM for the first image\n",
        "\n",
        "# The code below prints more than on of the CTs but I'm currently having issues\n",
        "# with formatting all 134 of the scans of the first patient\n",
        "\"\"\"\n",
        "plt.figure(figsize=(10,10)) # specifying the overall grid size\n",
        "\n",
        "for i in range(16):\n",
        "    plt.subplot(4,4,i+1)    # the number of images in the grid is 5*5 (25)\n",
        "    plt.imshow(patient_pixels[i], cmap=plt.cm.bone)\n",
        "\n",
        "plt.show()\n",
        "\"\"\""
      ],
      "execution_count": 66,
      "outputs": [
        {
          "output_type": "stream",
          "name": "stdout",
          "text": [
            "Dataset.file_meta -------------------------------\n",
            "(0002, 0000) File Meta Information Group Length  UL: 206\n",
            "(0002, 0001) File Meta Information Version       OB: b'\\x00\\x01'\n",
            "(0002, 0002) Media Storage SOP Class UID         UI: CT Image Storage\n",
            "(0002, 0003) Media Storage SOP Instance UID      UI: 1.3.6.1.4.1.32722.99.99.307880158436639081057603825300678127628\n",
            "(0002, 0010) Transfer Syntax UID                 UI: Explicit VR Little Endian\n",
            "(0002, 0012) Implementation Class UID            UI: 1.3.6.1.4.1.22213.1.143\n",
            "(0002, 0013) Implementation Version Name         SH: '0.5'\n",
            "(0002, 0016) Source Application Entity Title     AE: 'POSDA'\n",
            "-------------------------------------------------\n",
            "(0008, 0005) Specific Character Set              CS: 'ISO_IR 100'\n",
            "(0008, 0008) Image Type                          CS: ['ORIGINAL', 'PRIMARY', 'AXIAL', 'CT_SOM5 SPI']\n",
            "(0008, 0016) SOP Class UID                       UI: CT Image Storage\n",
            "(0008, 0018) SOP Instance UID                    UI: 1.3.6.1.4.1.32722.99.99.307880158436639081057603825300678127628\n",
            "(0008, 0020) Study Date                          DA: '20080918'\n",
            "(0008, 0021) Series Date                         DA: '20080918'\n",
            "(0008, 0022) Acquisition Date                    DA: '20080918'\n",
            "(0008, 0023) Content Date                        DA: '20080918'\n",
            "(0008, 0030) Study Time                          TM: '110915.625000'\n",
            "(0008, 0031) Series Time                         TM: '121748.328000'\n",
            "(0008, 0032) Acquisition Time                    TM: '113837.981607'\n",
            "(0008, 0033) Content Time                        TM: '113837.981607'\n",
            "(0008, 0050) Accession Number                    SH: '2819497684894126'\n",
            "(0008, 0060) Modality                            CS: 'CT'\n",
            "(0008, 0070) Manufacturer                        LO: 'SIEMENS'\n",
            "(0008, 0090) Referring Physician's Name          PN: ''\n",
            "(0008, 1090) Manufacturer's Model Name           LO: 'Biograph 40'\n",
            "(0009, 0010) Private Creator                     LO: 'SIEMENS CT VA1 DUMMY'\n",
            "(0010, 0010) Patient's Name                      PN: 'LUNG1-001'\n",
            "(0010, 0020) Patient ID                          LO: 'LUNG1-001'\n",
            "(0010, 0030) Patient's Birth Date                DA: ''\n",
            "(0010, 0040) Patient's Sex                       CS: 'M'\n",
            "(0010, 1010) Patient's Age                       AS: '083Y'\n",
            "(0010, 1030) Patient's Weight                    DS: '72.0'\n",
            "(0012, 0062) Patient Identity Removed            CS: 'YES'\n",
            "(0013, 0010) Private Creator                     LO: 'CTP'\n",
            "(0013, 1010) Private tag data                    LO: 'NSCLC-Radiomics'\n",
            "(0013, 1013) Private tag data                    LO: '72215020'\n",
            "(0018, 0015) Body Part Examined                  CS: 'LUNG'\n",
            "(0018, 0022) Scan Options                        CS: 'TM50PC2366'\n",
            "(0018, 0050) Slice Thickness                     DS: '3.0'\n",
            "(0018, 0060) KVP                                 DS: '120.0'\n",
            "(0018, 0090) Data Collection Diameter            DS: '500.0'\n",
            "(0018, 1020) Software Versions                   LO: 'syngo CT 2006A'\n",
            "(0018, 1030) Protocol Name                       LO: 'RCCTPET_THORAX_CONTRAST_dag0'\n",
            "(0018, 1100) Reconstruction Diameter             DS: '500.0'\n",
            "(0018, 1110) Distance Source to Detector         DS: '1040.0'\n",
            "(0018, 1111) Distance Source to Patient          DS: '570.0'\n",
            "(0018, 1120) Gantry/Detector Tilt                DS: '0.0'\n",
            "(0018, 1130) Table Height                        DS: '0.0'\n",
            "(0018, 1140) Rotation Direction                  CS: 'CW'\n",
            "(0018, 1150) Exposure Time                       IS: '361'\n",
            "(0018, 1151) X-Ray Tube Current                  IS: '80'\n",
            "(0018, 1152) Exposure                            IS: '400'\n",
            "(0018, 1160) Filter Type                         SH: '0'\n",
            "(0018, 1170) Generator Power                     IS: '9'\n",
            "(0018, 1190) Focal Spot(s)                       DS: '1.2'\n",
            "(0018, 1200) Date of Last Calibration            DA: '20080918'\n",
            "(0018, 1201) Time of Last Calibration            TM: '082644.000000'\n",
            "(0018, 1210) Convolution Kernel                  SH: 'B19f'\n",
            "(0018, 5100) Patient Position                    CS: 'HFS'\n",
            "(0019, 0010) Private Creator                     LO: 'SIEMENS CT VA0  COAD'\n",
            "(0020, 000d) Study Instance UID                  UI: 1.3.6.1.4.1.32722.99.99.239341353911714368772597187099978969331\n",
            "(0020, 000e) Series Instance UID                 UI: 1.3.6.1.4.1.32722.99.99.298991776521342375010861296712563382046\n",
            "(0020, 0010) Study ID                            SH: ''\n",
            "(0020, 0011) Series Number                       IS: '0'\n",
            "(0020, 0012) Acquisition Number                  IS: '2'\n",
            "(0020, 0013) Instance Number                     IS: '1'\n",
            "(0020, 0032) Image Position (Patient)            DS: [-249.51171875, -460.51171875, -282.5]\n",
            "(0020, 0037) Image Orientation (Patient)         DS: [1, 0, 0, 0, 1, 0]\n",
            "(0020, 0052) Frame of Reference UID              UI: 1.3.6.1.4.1.32722.99.99.159382531350253250387871175467326315430\n",
            "(0020, 1040) Position Reference Indicator        LO: ''\n",
            "(0020, 1041) Slice Location                      DS: '-282.5'\n",
            "(0021, 0010) Private Creator                     LO: 'SIEMENS MED'\n",
            "(0028, 0002) Samples per Pixel                   US: 1\n",
            "(0028, 0004) Photometric Interpretation          CS: 'MONOCHROME2'\n",
            "(0028, 0010) Rows                                US: 512\n",
            "(0028, 0011) Columns                             US: 512\n",
            "(0028, 0030) Pixel Spacing                       DS: [0.9765625, 0.9765625]\n",
            "(0028, 0100) Bits Allocated                      US: 16\n",
            "(0028, 0101) Bits Stored                         US: 16\n",
            "(0028, 0102) High Bit                            US: 15\n",
            "(0028, 0103) Pixel Representation                US: 0\n",
            "(0028, 0106) Smallest Image Pixel Value          US: 0\n",
            "(0028, 0107) Largest Image Pixel Value           US: 2535\n",
            "(0028, 0303) Longitudinal Temporal Information M CS: 'MODIFIED'\n",
            "(0028, 1050) Window Center                       DS: [40, -600]\n",
            "(0028, 1051) Window Width                        DS: [400, 1200]\n",
            "(0028, 1052) Rescale Intercept                   DS: '-1024.0'\n",
            "(0028, 1053) Rescale Slope                       DS: '1.0'\n",
            "(0028, 1055) Window Center & Width Explanation   LO: ['WINDOW1', 'WINDOW2']\n",
            "(0029, 0010) Private Creator                     LO: 'SIEMENS CSA HEADER'\n",
            "(0029, 0011) Private Creator                     LO: 'SIEMENS MEDCOM HEADER'\n",
            "(1099, 0010) Private Creator                     LO: 'TABLE_HEIGHT'\n",
            "(7fe0, 0010) Pixel Data                          OW: Array of 524288 elements\n"
          ]
        },
        {
          "output_type": "display_data",
          "data": {
            "image/png": "[encoded data removed]",
            "text/plain": [
              "<Figure size 432x288 with 1 Axes>"
            ]
          },
          "metadata": {
            "needs_background": "light"
          }
        }
      ]
    }
  ]
}