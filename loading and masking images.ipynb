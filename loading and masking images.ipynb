{
  "nbformat": 4,
  "nbformat_minor": 0,
  "metadata": {
    "colab": {
      "name": "Very easy code",
      "provenance": [],
      "authorship_tag": "ABX9TyPXMuePlGA95F3+i18XB+Ms",
      "include_colab_link": true
    },
    "kernelspec": {
      "name": "python3",
      "display_name": "Python 3"
    },
    "language_info": {
      "name": "python"
    }
  },
  "cells": [
    {
      "cell_type": "markdown",
      "metadata": {
        "id": "view-in-github",
        "colab_type": "text"
      },
      "source": [
        "<a href=\"https://colab.research.google.com/github/PHastings37/Mphys-proj/blob/main/loading%20and%20masking%20images.ipynb\" target=\"_parent\"><img src=\"https://colab.research.google.com/assets/colab-badge.svg\" alt=\"Open In Colab\"/></a>"
      ]
    },
    {
      "cell_type": "code",
      "metadata": {
        "colab": {
          "base_uri": "https://localhost:8080/"
        },
        "id": "hGz6xxfx1o3s",
        "outputId": "2b7e67b1-86ee-4bce-d508-5d14cea1be94"
      },
      "source": [
        "from google.colab import drive\n",
        "drive.mount('/content/gdrive')"
      ],
      "execution_count": 23,
      "outputs": [
        {
          "output_type": "stream",
          "name": "stdout",
          "text": [
            "Drive already mounted at /content/gdrive; to attempt to forcibly remount, call drive.mount(\"/content/gdrive\", force_remount=True).\n"
          ]
        }
      ]
    },
    {
      "cell_type": "code",
      "metadata": {
        "colab": {
          "base_uri": "https://localhost:8080/"
        },
        "id": "DvYD22UG5Ygg",
        "outputId": "22068710-9bea-4849-f7a1-10fa63c1c961"
      },
      "source": [
        "%cd /content/gdrive/MyDrive/Mphys project/dicom files"
      ],
      "execution_count": 42,
      "outputs": [
        {
          "output_type": "stream",
          "name": "stdout",
          "text": [
            "/content/gdrive/MyDrive/Mphys project/dicom files\n"
          ]
        }
      ]
    },
    {
      "cell_type": "code",
      "metadata": {
        "id": "m6TnBUAK5kcX",
        "outputId": "39df00df-34d5-4725-db63-fc73253563d8",
        "colab": {
          "base_uri": "https://localhost:8080/",
          "height": 316
        }
      },
      "source": [
        "with open('1-8ddfae112bf0d2cf0cb6c81b82a7d8f3.dcm') as f:\n",
        "  lines = f.readlines()"
      ],
      "execution_count": 28,
      "outputs": [
        {
          "output_type": "error",
          "ename": "UnicodeDecodeError",
          "evalue": "ignored",
          "traceback": [
            "\u001b[0;31m---------------------------------------------------------------------------\u001b[0m",
            "\u001b[0;31mUnicodeDecodeError\u001b[0m                        Traceback (most recent call last)",
            "\u001b[0;32m<ipython-input-28-2cddfad53c49>\u001b[0m in \u001b[0;36m<module>\u001b[0;34m()\u001b[0m\n\u001b[1;32m      1\u001b[0m \u001b[0;32mwith\u001b[0m \u001b[0mopen\u001b[0m\u001b[0;34m(\u001b[0m\u001b[0;34m'1-8ddfae112bf0d2cf0cb6c81b82a7d8f3.dcm'\u001b[0m\u001b[0;34m)\u001b[0m \u001b[0;32mas\u001b[0m \u001b[0mf\u001b[0m\u001b[0;34m:\u001b[0m\u001b[0;34m\u001b[0m\u001b[0;34m\u001b[0m\u001b[0m\n\u001b[0;32m----> 2\u001b[0;31m   \u001b[0mlines\u001b[0m \u001b[0;34m=\u001b[0m \u001b[0mf\u001b[0m\u001b[0;34m.\u001b[0m\u001b[0mreadlines\u001b[0m\u001b[0;34m(\u001b[0m\u001b[0;34m)\u001b[0m\u001b[0;34m\u001b[0m\u001b[0;34m\u001b[0m\u001b[0m\n\u001b[0m",
            "\u001b[0;32m/usr/lib/python3.7/codecs.py\u001b[0m in \u001b[0;36mdecode\u001b[0;34m(self, input, final)\u001b[0m\n\u001b[1;32m    320\u001b[0m         \u001b[0;31m# decode input (taking the buffer into account)\u001b[0m\u001b[0;34m\u001b[0m\u001b[0;34m\u001b[0m\u001b[0;34m\u001b[0m\u001b[0m\n\u001b[1;32m    321\u001b[0m         \u001b[0mdata\u001b[0m \u001b[0;34m=\u001b[0m \u001b[0mself\u001b[0m\u001b[0;34m.\u001b[0m\u001b[0mbuffer\u001b[0m \u001b[0;34m+\u001b[0m \u001b[0minput\u001b[0m\u001b[0;34m\u001b[0m\u001b[0;34m\u001b[0m\u001b[0m\n\u001b[0;32m--> 322\u001b[0;31m         \u001b[0;34m(\u001b[0m\u001b[0mresult\u001b[0m\u001b[0;34m,\u001b[0m \u001b[0mconsumed\u001b[0m\u001b[0;34m)\u001b[0m \u001b[0;34m=\u001b[0m \u001b[0mself\u001b[0m\u001b[0;34m.\u001b[0m\u001b[0m_buffer_decode\u001b[0m\u001b[0;34m(\u001b[0m\u001b[0mdata\u001b[0m\u001b[0;34m,\u001b[0m \u001b[0mself\u001b[0m\u001b[0;34m.\u001b[0m\u001b[0merrors\u001b[0m\u001b[0;34m,\u001b[0m \u001b[0mfinal\u001b[0m\u001b[0;34m)\u001b[0m\u001b[0;34m\u001b[0m\u001b[0;34m\u001b[0m\u001b[0m\n\u001b[0m\u001b[1;32m    323\u001b[0m         \u001b[0;31m# keep undecoded input until the next call\u001b[0m\u001b[0;34m\u001b[0m\u001b[0;34m\u001b[0m\u001b[0;34m\u001b[0m\u001b[0m\n\u001b[1;32m    324\u001b[0m         \u001b[0mself\u001b[0m\u001b[0;34m.\u001b[0m\u001b[0mbuffer\u001b[0m \u001b[0;34m=\u001b[0m \u001b[0mdata\u001b[0m\u001b[0;34m[\u001b[0m\u001b[0mconsumed\u001b[0m\u001b[0;34m:\u001b[0m\u001b[0;34m]\u001b[0m\u001b[0;34m\u001b[0m\u001b[0;34m\u001b[0m\u001b[0m\n",
            "\u001b[0;31mUnicodeDecodeError\u001b[0m: 'utf-8' codec can't decode byte 0xca in position 140: invalid continuation byte"
          ]
        }
      ]
    },
    {
      "cell_type": "code",
      "metadata": {
        "colab": {
          "base_uri": "https://localhost:8080/"
        },
        "id": "aWTCOvxl6pZo",
        "outputId": "6b5836ec-1e9d-48eb-a5e2-7883a6bf91c3"
      },
      "source": [
        "print(f)"
      ],
      "execution_count": null,
      "outputs": [
        {
          "output_type": "stream",
          "name": "stdout",
          "text": [
            "<_io.TextIOWrapper name='testdata.tcia' mode='r' encoding='UTF-8'>\n"
          ]
        }
      ]
    },
    {
      "cell_type": "code",
      "metadata": {
        "colab": {
          "base_uri": "https://localhost:8080/"
        },
        "id": "7ZETCLcp95NV",
        "outputId": "72c29abc-ca4d-4e74-9daf-dc4bf757abb8"
      },
      "source": [
        "!pip install SimpleITK"
      ],
      "execution_count": 29,
      "outputs": [
        {
          "output_type": "stream",
          "name": "stdout",
          "text": [
            "Requirement already satisfied: SimpleITK in /usr/local/lib/python3.7/dist-packages (2.1.1)\n"
          ]
        }
      ]
    },
    {
      "cell_type": "code",
      "metadata": {
        "colab": {
          "base_uri": "https://localhost:8080/"
        },
        "id": "GyrCVnfpEsXb",
        "outputId": "bf86497d-b936-4d44-a436-56b4218f1448"
      },
      "source": [
        "!pip install dicom"
      ],
      "execution_count": 30,
      "outputs": [
        {
          "output_type": "stream",
          "name": "stdout",
          "text": [
            "Requirement already satisfied: dicom in /usr/local/lib/python3.7/dist-packages (0.9.9.post1)\n"
          ]
        }
      ]
    },
    {
      "cell_type": "code",
      "metadata": {
        "colab": {
          "base_uri": "https://localhost:8080/"
        },
        "id": "_Vdisf7rI2b9",
        "outputId": "5f623b65-7ca2-47da-b9e8-693aa7a7ff67"
      },
      "source": [
        "!pip install dicom"
      ],
      "execution_count": 31,
      "outputs": [
        {
          "output_type": "stream",
          "name": "stdout",
          "text": [
            "Requirement already satisfied: dicom in /usr/local/lib/python3.7/dist-packages (0.9.9.post1)\n"
          ]
        }
      ]
    },
    {
      "cell_type": "code",
      "metadata": {
        "id": "uExpSs2VC3Ei"
      },
      "source": [
        "import SimpleITK as simp\n",
        "import dicom"
      ],
      "execution_count": 32,
      "outputs": []
    },
    {
      "cell_type": "code",
      "metadata": {
        "colab": {
          "base_uri": "https://localhost:8080/"
        },
        "id": "1_JpLafSE9Ud",
        "outputId": "999fdd7e-d7b2-450e-9fd1-a57b5002976c"
      },
      "source": [
        "!pip install tciaclient"
      ],
      "execution_count": 33,
      "outputs": [
        {
          "output_type": "stream",
          "name": "stdout",
          "text": [
            "Requirement already satisfied: tciaclient in /usr/local/lib/python3.7/dist-packages (0.0.3)\n",
            "Requirement already satisfied: pip in /usr/local/lib/python3.7/dist-packages (from tciaclient) (21.1.3)\n",
            "Requirement already satisfied: packaging in /usr/local/lib/python3.7/dist-packages (from tciaclient) (21.0)\n",
            "Requirement already satisfied: pyparsing>=2.0.2 in /usr/local/lib/python3.7/dist-packages (from packaging->tciaclient) (2.4.7)\n"
          ]
        }
      ]
    },
    {
      "cell_type": "code",
      "metadata": {
        "id": "xYbN2pN1GkBM"
      },
      "source": [
        "import tciaclient as tcia\n",
        "import SimpleITK as simp\n",
        "import pydicom"
      ],
      "execution_count": 34,
      "outputs": []
    },
    {
      "cell_type": "code",
      "metadata": {
        "id": "hKgCYNmIG5vV"
      },
      "source": [
        "import matplotlib.pyplot as plt\n",
        "from pydicom import dcmread\n",
        "from pydicom.data import get_testdata_file\n",
        "\n",
        "fpath = get_testdata_file('1-8ddfae112bf0d2cf0cb6c81b82a7d8f3.dcm')\n",
        "ds = dcmread('1-8ddfae112bf0d2cf0cb6c81b82a7d8f3.dcm')\n",
        "print(ds)"
      ],
      "execution_count": null,
      "outputs": []
    },
    {
      "cell_type": "code",
      "metadata": {
        "id": "eXe1lYIndlZw"
      },
      "source": [
        "import os"
      ],
      "execution_count": 39,
      "outputs": []
    },
    {
      "cell_type": "code",
      "metadata": {
        "id": "6jiJmE1meRnp"
      },
      "source": [
        "files = os.listdir('patient1/')"
      ],
      "execution_count": 43,
      "outputs": []
    },
    {
      "cell_type": "code",
      "metadata": {
        "id": "uStCqYmeenhA",
        "outputId": "5a63b9da-8abb-43ce-865d-3ef6477315cf",
        "colab": {
          "base_uri": "https://localhost:8080/"
        }
      },
      "source": [
        "print(files)"
      ],
      "execution_count": 44,
      "outputs": [
        {
          "output_type": "stream",
          "name": "stdout",
          "text": [
            "['25-5b85174c4171bc8ec4983ae84eda423d.dcm', '22-d2dbc943cf3f10e3113674cf42cf4c6f.dcm', '20-4c04b7b4e4e4586d75fb6e94db74990a.dcm', '18-5905bbd845ef3e2c48396875323898d9.dcm', '16-d5dcba214701f7c673ef56f969da6eb2.dcm', '15-f4184497354fec1079df599bf7c3cd23.dcm', '12-9728d6dd52665883b0b38c8607a39f3f.dcm', '14-9346f2df888b3cba802e4d04ff943ac0.dcm', '13-d94dec92acad78415f652ddb9b10301e.dcm', '17-a960badf5f2a34eb3c7e39d071329b99.dcm', '19-59b33794324e7cc8feaa2189a81ad42e.dcm', '11-dd1561c08374faa9b541961638a18251.dcm', '10-4c4823a38ffeb1f7bc71b0cfd4eb3803.dcm', '9-980394d2191a11d5dd780dbc67480ce2.dcm', '8-c5751a20d2ee03a8261c580bc12f2bfe.dcm', '7-0bafa009ff348e0ed4facfa4c2bb5fbb.dcm', '6-160596ba20d67a0e77d11397ac581232.dcm', '5-e5a6e3d9a08c714c940d3edf44a9af09.dcm', '4-707bcbc7c45bef7157d131de33d7d797.dcm', '3-ed9cef5906531bcc9860d825e4ce1379.dcm', '2-af46a92f0cc9463b071e99cef3ff2e75.dcm', '1-8ddfae112bf0d2cf0cb6c81b82a7d8f3.dcm', '24-177ccf74ac9776082c75568080354dbd.dcm', '51-61b4e7715222bdf7a54eef0730729044.dcm', '50-fae9aa5e305732a12aed2770804550f1.dcm', '48-c02c4762dca3ab53ead880aee5ca782c.dcm', '47-3eb705095e6a51173a115068c791d7c6.dcm', '45-15f41d23dd62fe78f3f11081455bc93a.dcm', '43-edfc3db99897cd6e6de35836b63cc011.dcm', '41-48584f848532640117d24987225499c3.dcm', '49-24e3b4159bee3cab4562acd63f07a343.dcm', '42-d26e2c5465b70b078a8717630620c929.dcm', '46-b28012deecba96ecfd076eca9715b143.dcm', '44-9518a6c69ce86a494fd5d1597f2d07c5.dcm', '40-fc5184d088b2a192f3fbf2282f30d830.dcm', '37-a46e7b31d39137a023b5cdce4907db3e.dcm', '36-21f4c779c18e0b85c38a62cd530e1fb6.dcm', '35-f7bbefb84fe5bdeabd81ec52d898b6cd.dcm', '32-2c486d669d2cb2d2b1cdf266ea811012.dcm', '33-0c7aed649917994aa0099fc4315d2932.dcm', '39-58cd469d612605224e3070cb9ba3ac22.dcm', '34-aece58282147bf15626ccccb55b2d02a.dcm', '38-543c7ac1f2ef2ddf4d1e9ecadf12f6df.dcm', '31-27643c5d39f156394be692deb75f7d94.dcm', '30-735adb713a99e5af4b507ac6a57d3327.dcm', '29-2d76c47baec6671e521b1746d0ee8724.dcm', '28-003883467a0dc2802e87728f821d010f.dcm', '27-b05dc0b766ec568d1e3087c662629992.dcm', '23-bcebc210543ba1f7a3781d0d25ba744e.dcm', '21-849fc61ee1b16722246a89102be15abe.dcm', '26-7fbe58e6842ed9ed5f5678be2c418325.dcm', '73-b184b9254a5c196a79323461242afd35.dcm', '71-c1c2ac0ceaecab39fc3180fa18d72f38.dcm', '69-21ef760fc4bfe0618157b948595f0306.dcm', '68-788375669e79a398e995f0293809e3ef.dcm', '66-58f6177f3f1922683393d718e72d2f78.dcm', '65-e30282586ce2fbbbfb86030ff2bba084.dcm', '64-936b1842ed589f63ae481fede7f06f21.dcm', '67-7b68b7d7418daa44ebce466ecccadf13.dcm', '63-6f3f022e57a9f3c996f465d055aadeb7.dcm', '70-d10583de1b06526589e6b3a4975fe6a0.dcm', '62-3a5732f78848b782989ae9dafee49aa2.dcm', '61-c84dddcbe4e46f904e03f61675deb2ad.dcm', '60-d8f57fe2a70252997c6f86ff93e6cb9c.dcm', '58-3fa9e0a2fecea26842f27205fe515aca.dcm', '55-fffe089a6fbf0f3dab38b58f30c3cda2.dcm', '54-665d03f9ec2a0904c227f9d2185feee1.dcm', '53-fbdd9fb0085cf9c1fa8535d4916cb99a.dcm', '57-617267b0d289f1d80963d07bf32339c6.dcm', '59-def2851668e2353e3f0318c224495d78.dcm', '56-9d53a01d5123703437e5368e94b6f138.dcm', '52-96e40f1f5f28b7a47621230b59f16696.dcm', '85-596fff4b1653772461892d4ab3349f9c.dcm', '84-99181e0b2c87311d4393ca7f9d62e341.dcm', '83-e536a43f6ec5c547de9dcc258add19be.dcm', '89-262fd0e573ba8f67b005e8230eb529ac.dcm', '88-bbad226adecd0e4a2d67b2fa5bdc3629.dcm', '82-b6753337dbeb338351e0f5accb66df8a.dcm', '90-daf8b78dfca4b0261cf1f7adb055fa4b.dcm', '81-6b4a0404470dc5e0f4d666590e6de3d4.dcm', '80-d67e14328f6c572e47d40d5b1200058e.dcm', '79-1fc3158a530c59f7f10605aba045d2ea.dcm', '76-09184bbbd8f1f05a9ed1a807b98492ac.dcm', '72-49389772bb51e7f88ec53a2a4b2d8db1.dcm', '75-873f9a028f1af3adffb47970ba4d72e3.dcm', '78-3d9d7264cf9da92e60aab501ddec10fc.dcm', '74-dd03cc7d0b49501374f4d9b927630006.dcm', '77-0dc4611d3fd2571030942081462bd0eb.dcm', '104-8d6c09330d03909ac08c18e09dacee65.dcm', '102-02b11ce68fa8308357d5b818dc8565a1.dcm', '110-b4f03ab9b8bcb1f86a9e3bf69d1c8828.dcm', '103-3cb38a50991455c8678ddbdcc04bdf0e.dcm', '105-0a5e9ddf6f51d26f0b9616413f486473.dcm', '101-721127532ab74a920bb048393b2ea7f5.dcm', '99-15e5c38d87bdcc76eae210257c925929.dcm', '98-213fb5947b41769004aff6d0dda31b33.dcm', '97-4df99459b8a0c5b1b873d968142d1352.dcm', '96-2b9f6744276ed7817d04389769241b97.dcm', '95-119a0a181aa39750fe5ef4409eb46aad.dcm', '94-10760a47f89e3e60ffbfbc8fb8740691.dcm', '92-b7fd3a9aaa44e060a067d32ff196353d.dcm', '100-104e4659b3b91fa02d88f141d5f4cac9.dcm', '91-53e139022642f17c35e307801188068c.dcm', '93-58848d35ad39b2c48d2640a970b507be.dcm', '87-2903c1118538686482bff04205adebc5.dcm', '86-f4405f15dcf254a14cf62e5e136565be.dcm', '121-fd4723433367ce1065276d94bc67bd8f.dcm', '116-9fb49e4e1b27fa526e3e0e9c3c4dacfa.dcm', '115-293551ec4fcdbb490d5df567070eba83.dcm', '114-f7be70ed9d495e64c06da9b5fa13a3b5.dcm', '118-cb3ab87dfe2428e7f0095d58e21839e0.dcm', '112-027ce4fd693fcce36b65fed4f5d67eff.dcm', '117-c654591a7602221d57be828f6ce72acf.dcm', '119-144a523cab74483eef563b28f7b58f99.dcm', '120-c91eee382d28b925f552b568589f8ebe.dcm', '113-055f6173abff216ffc3decf4505b925b.dcm', '111-615b15c67d7ca8af963c2d1e041ec423.dcm', '109-3e05521bf661915b95eea2bea82236f4.dcm', '108-d2b0bfeda56444ee3e6c4734f3a745d6.dcm', '107-119dea2f7b703ba5d71fe27ababb9ac5.dcm', '106-a5473e6ee8ea51bca35a785227ba0d5d.dcm']\n"
          ]
        }
      ]
    },
    {
      "cell_type": "code",
      "metadata": {
        "id": "6ezeSFcleu1f",
        "outputId": "fa14f398-aaea-41b2-d72b-51c44e088240",
        "colab": {
          "base_uri": "https://localhost:8080/"
        }
      },
      "source": [
        "import matplotlib.pyplot as plt\n",
        "from pydicom import dcmread\n",
        "from pydicom.data import get_testdata_file\n",
        "\n",
        "sizes = []\n",
        "\"\"\"\n",
        "fpath = get_testdata_file('patient1/{}'.format(files[0]))\n",
        "ds = dcmread('patient1/{}'.format(files[0]))\n",
        "print(ds)\n",
        "\"\"\"\n",
        "\n",
        "\n",
        "for i in files:\n",
        "  fpath = get_testdata_file('patient1/{}'.format(i))\n",
        "  ds = dcmread('patient1/{}'.format(i))\n",
        "  sizes.append(ds.SliceLocation)\n",
        "\n",
        "print(sizes)\n"
      ],
      "execution_count": 62,
      "outputs": [
        {
          "output_type": "stream",
          "name": "stdout",
          "text": [
            "['224.1', '209.1', '200.1', '194.1', '17.1', '155.1', '128.1', '146.1', '140.1', '191.1', '2.1', '122.1', '119.1', '113.1', '110.1', '11.1', '-9.9', '-3.9', '-12.9', '89.1', '8.1', '5.1', '215.1', '-15.9', '-0.9', '-87.9', '-81.9', '-48.9', '-36.9', '86.1', '-90.9', '-30.9', '-72.9', '-42.9', '77.1', '56.1', '53.1', '35.1', '260.1', '263.1', '62.1', '266.1', '59.1', '254.1', '248.1', '242.1', '239.1', '23.1', '212.1', '206.1', '227.1', '173.1', '167.1', '161.1', '158.1', '149.1', '143.1', '14.1', '152.1', '137.1', '164.1', '134.1', '131.1', '125.1', '107.1', '-6.9', '-24.9', '-21.9', '104.1', '116.1', '101.1', '-18.9', '233.1', '230.1', '221.1', '257.1', '251.1', '218.1', '26.1', '203.1', '20.1', '197.1', '179.1', '170.1', '182.1', '188.1', '176.1', '185.1', '83.1', '74.1', '-39.9', '80.1', '92.1', '71.1', '65.1', '50.1', '47.1', '44.1', '41.1', '38.1', '29.1', '68.1', '269.1', '32.1', '245.1', '236.1', '-84.9', '-63.9', '-60.9', '-57.9', '-69.9', '-51.9', '-66.9', '-75.9', '-78.9', '-54.9', '-45.9', '-33.9', '-27.9', '98.1', '95.1']\n"
          ]
        }
      ]
    }
  ]
}