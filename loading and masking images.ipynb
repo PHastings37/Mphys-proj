{
  "cells": [
    {
      "cell_type": "markdown",
      "metadata": {
        "colab_type": "text",
        "id": "view-in-github"
      },
      "source": [
        "<a href=\"https://colab.research.google.com/github/PHastings37/Mphys-proj/blob/main/loading%20and%20masking%20images.ipynb\" target=\"_parent\"><img src=\"https://colab.research.google.com/assets/colab-badge.svg\" alt=\"Open In Colab\"/></a>"
      ]
    },
    {
      "cell_type": "code",
      "execution_count": 2,
      "metadata": {
        "id": "xYbN2pN1GkBM"
      },
      "outputs": [],
      "source": [
        "import tciaclient as tcia\n",
        "import SimpleITK as simp\n",
        "import pydicom\n",
        "import os\n",
        "import matplotlib.pyplot as plt\n",
        "from pydicom import dcmread\n",
        "from pydicom.data import get_testdata_file"
      ]
    },
    {
      "cell_type": "code",
      "execution_count": null,
      "metadata": {
        "id": "AK9D7wqP_zp7"
      },
      "outputs": [],
      "source": [
        "import zipfile\n",
        "path = os.listdir('zipped files')\n",
        "counter = 0\n",
        "for i in path:\n",
        "  counter += 1\n",
        "  with zipfile.ZipFile('zipped files/{}'.format(i), 'r') as zip_ref:\n",
        "    folder = \"patient{}\".format(counter)\n",
        "    os.mkdir(folder)\n",
        "    zip_ref.extractall(folder)\n"
      ]
    },
    {
      "cell_type": "code",
      "execution_count": null,
      "metadata": {
        "colab": {
          "base_uri": "https://localhost:8080/"
        },
        "id": "6ezeSFcleu1f",
        "outputId": "b62cb150-274d-4026-86cd-7744c09d9e9f"
      },
      "outputs": [],
      "source": [
        "\"\"\"\n",
        "code to traverse given patients file and create an array of a given data entry.\n",
        "\n",
        "\"\"\"\n",
        "import matplotlib.pyplot as plt\n",
        "from pydicom import dcmread\n",
        "from pydicom.data import get_testdata_file\n",
        "import os, os.path\n",
        "import SimpleITK as sitk\n",
        "from __future__ import print_function\n",
        "import sys\n",
        "import os\n",
        "reader = sitk.ImageSeriesReader()\n",
        "import numpy as np\n",
        "\n",
        "filepath = \"/mnt/c/Users/Patrick/Documents/MPHYS_DATA_SORTED\"\n",
        "counter = 0 #Used to check that the code is running\n",
        "\n",
        "#Defining the start of the path name to where my files are (this depends on your path and the\n",
        "# naming scheme you used when using dicomsort.py)\n",
        "directory = '/mnt/c/Users/Patrick/Documents/MPHYS_DATA_SORTED/LUNG1-'\n",
        "\n",
        "# defining the start of the path name of the output file\n",
        "\n",
        "output_file = '/mnt/c/Users/Patrick/Documents/MPHYS_DATA_SORTED/LUNG1-'\n",
        "\n",
        "\n",
        "#defining the number of iterations the for loop will perform. +1 is due to the range function\n",
        "number_of_iterations = 422+1\n",
        "\n",
        "biggest_size = 0\n",
        "biggest_size_label = 0\n",
        "size =[]\n",
        "spacing = []\n",
        "\n",
        "for x in range(1, number_of_iterations) :\n",
        "    _3_digit_x = '{0:03}'.format(x) #formats the 'x' to the form 'yzx' e.g. 1 -> 001\n",
        "                                    # so that it fits the format of the naming scheme used\n",
        "                                    # e.g. LUNG1-001-CT\n",
        "    \n",
        "    directory_full = directory + str(_3_digit_x) + '-CT/' #   This line will change depending on the naming scheme that you have used\n",
        "    dicom_names = reader.GetGDCMSeriesFileNames(directory_full)\n",
        "    reader.SetFileNames(dicom_names)\n",
        "    image = reader.Execute()\n",
        "\n",
        "    size.append((image.GetSize()))\n",
        "    spacing.append((image.GetSpacing()))\n",
        "    print(x)\n",
        "\n",
        "size = np.vstack(size)\n",
        "spacing = np.vstack(spacing)"
      ]
    },
    {
      "cell_type": "code",
      "execution_count": 162,
      "metadata": {},
      "outputs": [
        {
          "name": "stdout",
          "output_type": "stream",
          "text": [
            "no resizing necessary\n",
            "respacing necessary, resize to [0.9765625]x[0.9765625]x[5.]\n"
          ]
        }
      ],
      "source": [
        "#~~~~~~~~~~~~~~~~~~~~~~~~~~~~~~~~~~~~~~~~~~~~~~~~~~~~~~~~~~~~~~~~~~~~~~~~~~~~~~~~~~~~~~~~~#\n",
        "#checks if image size or shape needs to be changed\n",
        "#~~~~~~~~~~~~~~~~~~~~~~~~~~~~~~~~~~~~~~~~~~~~~~~~~~~~~~~~~~~~~~~~~~~~~~~~~~~~~~~~~~~~~~~~~#\n",
        "\n",
        "if np.max(size[:,0]) == np.min(size[:,0]) and np.max(size[:,1]) == np.min(size[:,1]):\n",
        "    print(\"no resizing necessary\")\n",
        "else:\n",
        "    print(\"resizing necessary, resize t0 {}x{}\".format(np.max(size[:,0]), np.max[size[:,1]]))\n",
        "    \n",
        "\n",
        "mode_x = stats.mode(spacing[:,0])\n",
        "mode_y = stats.mode(spacing[:,1])\n",
        "mode_z = stats.mode(spacing[:,2])\n",
        "\n",
        "if np.max(spacing[:,0]) == np.min(spacing[:,0]) and np.max(spacing[:,1]) == np.min(spacing[:,1]):\n",
        "    print(\"no respacing necessary\")\n",
        "else:\n",
        "    print(\"respacing necessary, resize to {}x{}x{}\".format(mode_x.mode, mode_y.mode, mode_z.mode))"
      ]
    },
    {
      "cell_type": "code",
      "execution_count": 168,
      "metadata": {},
      "outputs": [
        {
          "ename": "TypeError",
          "evalue": "_r_image() takes from 1 to 6 positional arguments but 9 were given",
          "output_type": "error",
          "traceback": [
            "\u001b[0;31m---------------------------------------------------------------------------\u001b[0m",
            "\u001b[0;31mTypeError\u001b[0m                                 Traceback (most recent call last)",
            "\u001b[0;32m/tmp/ipykernel_743/3274792765.py\u001b[0m in \u001b[0;36m<module>\u001b[0;34m\u001b[0m\n\u001b[1;32m     18\u001b[0m \u001b[0;34m\u001b[0m\u001b[0m\n\u001b[1;32m     19\u001b[0m \u001b[0;34m\u001b[0m\u001b[0m\n\u001b[0;32m---> 20\u001b[0;31m \u001b[0mx\u001b[0m \u001b[0;34m=\u001b[0m \u001b[0mresample_volume\u001b[0m\u001b[0;34m(\u001b[0m\u001b[0;34m\"{}/LUNG1-001-CT/0-1.dcm\"\u001b[0m\u001b[0;34m.\u001b[0m\u001b[0mformat\u001b[0m\u001b[0;34m(\u001b[0m\u001b[0mfilepath\u001b[0m\u001b[0;34m)\u001b[0m\u001b[0;34m)\u001b[0m\u001b[0;34m\u001b[0m\u001b[0;34m\u001b[0m\u001b[0m\n\u001b[0m\u001b[1;32m     21\u001b[0m \"\"\"\n\u001b[1;32m     22\u001b[0m \u001b[0;32mfor\u001b[0m \u001b[0mfilename\u001b[0m \u001b[0;32min\u001b[0m \u001b[0mos\u001b[0m\u001b[0;34m.\u001b[0m\u001b[0mlistdir\u001b[0m\u001b[0;34m(\u001b[0m\u001b[0mfilepath\u001b[0m\u001b[0;34m)\u001b[0m\u001b[0;34m:\u001b[0m\u001b[0;34m\u001b[0m\u001b[0;34m\u001b[0m\u001b[0m\n",
            "\u001b[0;32m/tmp/ipykernel_743/3274792765.py\u001b[0m in \u001b[0;36mresample_volume\u001b[0;34m(volume_path, interpolator, new_spacing)\u001b[0m\n\u001b[1;32m     11\u001b[0m     \u001b[0moriginal_size\u001b[0m \u001b[0;34m=\u001b[0m \u001b[0mvolume\u001b[0m\u001b[0;34m.\u001b[0m\u001b[0mGetSize\u001b[0m\u001b[0;34m(\u001b[0m\u001b[0;34m)\u001b[0m\u001b[0;34m\u001b[0m\u001b[0;34m\u001b[0m\u001b[0m\n\u001b[1;32m     12\u001b[0m     \u001b[0mnew_size\u001b[0m \u001b[0;34m=\u001b[0m \u001b[0;34m[\u001b[0m\u001b[0;36m512\u001b[0m\u001b[0;34m,\u001b[0m \u001b[0;36m512\u001b[0m\u001b[0;34m]\u001b[0m\u001b[0;34m\u001b[0m\u001b[0;34m\u001b[0m\u001b[0m\n\u001b[0;32m---> 13\u001b[0;31m     return sitk.Resample(volume, new_size, sitk.Transform(), interpolator,\n\u001b[0m\u001b[1;32m     14\u001b[0m                          \u001b[0mvolume\u001b[0m\u001b[0;34m.\u001b[0m\u001b[0mGetOrigin\u001b[0m\u001b[0;34m(\u001b[0m\u001b[0;34m)\u001b[0m\u001b[0;34m,\u001b[0m \u001b[0mnew_spacing\u001b[0m\u001b[0;34m,\u001b[0m \u001b[0mvolume\u001b[0m\u001b[0;34m.\u001b[0m\u001b[0mGetDirection\u001b[0m\u001b[0;34m(\u001b[0m\u001b[0;34m)\u001b[0m\u001b[0;34m,\u001b[0m \u001b[0;36m0\u001b[0m\u001b[0;34m,\u001b[0m\u001b[0;34m\u001b[0m\u001b[0;34m\u001b[0m\u001b[0m\n\u001b[1;32m     15\u001b[0m                          volume.GetPixelID())\n",
            "\u001b[0;32m~/anaconda3/envs/python38/lib/python3.9/site-packages/SimpleITK/extra.py\u001b[0m in \u001b[0;36mResample\u001b[0;34m(image1, *args, **kwargs)\u001b[0m\n\u001b[1;32m    111\u001b[0m         \u001b[0;32mreturn\u001b[0m \u001b[0m_r\u001b[0m\u001b[0;34m(\u001b[0m\u001b[0;34m*\u001b[0m\u001b[0margs\u001b[0m\u001b[0;34m,\u001b[0m \u001b[0;34m**\u001b[0m\u001b[0mkwargs\u001b[0m\u001b[0;34m)\u001b[0m\u001b[0;34m\u001b[0m\u001b[0;34m\u001b[0m\u001b[0m\n\u001b[1;32m    112\u001b[0m \u001b[0;34m\u001b[0m\u001b[0m\n\u001b[0;32m--> 113\u001b[0;31m     \u001b[0;32mreturn\u001b[0m \u001b[0m_r_image\u001b[0m\u001b[0;34m(\u001b[0m\u001b[0mimage1\u001b[0m\u001b[0;34m,\u001b[0m \u001b[0;34m*\u001b[0m\u001b[0margs\u001b[0m\u001b[0;34m,\u001b[0m \u001b[0;34m**\u001b[0m\u001b[0mkwargs\u001b[0m\u001b[0;34m)\u001b[0m\u001b[0;34m\u001b[0m\u001b[0;34m\u001b[0m\u001b[0m\n\u001b[0m\u001b[1;32m    114\u001b[0m \u001b[0;34m\u001b[0m\u001b[0m\n\u001b[1;32m    115\u001b[0m \u001b[0;34m\u001b[0m\u001b[0m\n",
            "\u001b[0;31mTypeError\u001b[0m: _r_image() takes from 1 to 6 positional arguments but 9 were given"
          ]
        }
      ],
      "source": [
        "###\n",
        "#code to resample the spacing\n",
        "###\n",
        "from scipy import stats\n",
        "\n",
        "\n",
        "def resample_volume(volume_path, interpolator = sitk.sitkLinear, new_spacing = [mode_x.mode, mode_y.mode, mode_z.mode]):\n",
        "    #volume = sitk.ReadImage(volume_path, sitk.sitkFloat32) # read and cast to float32\n",
        "    volume = sitk.ReadImage(volume_path)\n",
        "    original_spacing = volume.GetSpacing()\n",
        "    original_size = volume.GetSize()\n",
        "    new_size = [512, 512]\n",
        "    return sitk.Resample(volume, new_size, sitk.Transform(), interpolator,\n",
        "                         volume.GetOrigin(), new_spacing, volume.GetDirection(), 0,\n",
        "                         volume.GetPixelID())\n",
        "\n",
        "\n",
        "\n",
        "\n",
        "x = resample_volume(\"{}/LUNG1-001-CT/0-1.dcm\".format(filepath))\n",
        "\"\"\"\n",
        "for filename in os.listdir(filepath):\n",
        "    if \"-CT\" in filename:\n",
        "        filepathTemp = \"{}/{}\".format(filepath,filename)\n",
        "        for dicom in os.listdir(filepathTemp):\n",
        "            resample_volume(filepathTemp)\n",
        "        else:\n",
        "            continue\n",
        "print(x)\n",
        "\"\"\""
      ]
    }
  ],
  "metadata": {
    "colab": {
      "authorship_tag": "ABX9TyOu4D9+hLBOvD9xt6lLZ20A",
      "include_colab_link": true,
      "name": "Very easy code",
      "provenance": []
    },
    "interpreter": {
      "hash": "898a5c184a2456bee6a9e0aa8f1ddb9db550ec871c364d22808e3fc0b1a91ec6"
    },
    "kernelspec": {
      "display_name": "Python 3.9.7 64-bit ('python38': conda)",
      "name": "python3"
    },
    "language_info": {
      "codemirror_mode": {
        "name": "ipython",
        "version": 3
      },
      "file_extension": ".py",
      "mimetype": "text/x-python",
      "name": "python",
      "nbconvert_exporter": "python",
      "pygments_lexer": "ipython3",
      "version": "3.9.7"
    }
  },
  "nbformat": 4,
  "nbformat_minor": 0
}
