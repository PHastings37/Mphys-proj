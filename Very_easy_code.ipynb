{
  "nbformat": 4,
  "nbformat_minor": 0,
  "metadata": {
    "colab": {
      "name": "Very easy code",
      "provenance": [],
      "authorship_tag": "ABX9TyOI55x3iiE4ALmVS1QUI8G+",
      "include_colab_link": true
    },
    "kernelspec": {
      "name": "python3",
      "display_name": "Python 3"
    },
    "language_info": {
      "name": "python"
    }
  },
  "cells": [
    {
      "cell_type": "markdown",
      "metadata": {
        "id": "view-in-github",
        "colab_type": "text"
      },
      "source": [
        "<a href=\"https://colab.research.google.com/github/PHastings37/Mphys-proj/blob/main/Very_easy_code.ipynb\" target=\"_parent\"><img src=\"https://colab.research.google.com/assets/colab-badge.svg\" alt=\"Open In Colab\"/></a>"
      ]
    },
    {
      "cell_type": "code",
      "metadata": {
        "colab": {
          "base_uri": "https://localhost:8080/"
        },
        "id": "hGz6xxfx1o3s",
        "outputId": "0b0e19e8-aa8d-468b-c57b-89ff2e31ad4e"
      },
      "source": [
        "from google.colab import drive\n",
        "drive.mount('/content/gdrive')"
      ],
      "execution_count": 5,
      "outputs": [
        {
          "output_type": "stream",
          "name": "stdout",
          "text": [
            "Drive already mounted at /content/gdrive; to attempt to forcibly remount, call drive.mount(\"/content/gdrive\", force_remount=True).\n"
          ]
        }
      ]
    },
    {
      "cell_type": "code",
      "metadata": {
        "colab": {
          "base_uri": "https://localhost:8080/"
        },
        "id": "DvYD22UG5Ygg",
        "outputId": "a5b8a11c-5ba3-4c1e-a646-6f7bca86e10f"
      },
      "source": [
        "%cd /content/gdrive/MyDrive/Mphys project"
      ],
      "execution_count": 6,
      "outputs": [
        {
          "output_type": "stream",
          "name": "stdout",
          "text": [
            "/content/gdrive/MyDrive/Mphys project\n"
          ]
        }
      ]
    },
    {
      "cell_type": "code",
      "metadata": {
        "id": "m6TnBUAK5kcX"
      },
      "source": [
        "with open('testdata.tcia') as f:\n",
        "  lines = f.readlines()"
      ],
      "execution_count": 7,
      "outputs": []
    },
    {
      "cell_type": "code",
      "metadata": {
        "colab": {
          "base_uri": "https://localhost:8080/"
        },
        "id": "aWTCOvxl6pZo",
        "outputId": "f36ac525-a43e-4469-e225-ba8a9d7b8e98"
      },
      "source": [
        "print(f)"
      ],
      "execution_count": 27,
      "outputs": [
        {
          "output_type": "stream",
          "name": "stdout",
          "text": [
            "<_io.TextIOWrapper name='testdata.tcia' mode='r' encoding='UTF-8'>\n"
          ]
        }
      ]
    },
    {
      "cell_type": "code",
      "metadata": {
        "colab": {
          "base_uri": "https://localhost:8080/"
        },
        "id": "7ZETCLcp95NV",
        "outputId": "73f7d1bf-4a8f-4fd4-f637-68b406579c85"
      },
      "source": [
        "!pip install SimpleITK"
      ],
      "execution_count": 20,
      "outputs": [
        {
          "output_type": "stream",
          "name": "stdout",
          "text": [
            "Collecting SimpleITK\n",
            "  Downloading SimpleITK-2.1.1-cp37-cp37m-manylinux_2_12_x86_64.manylinux2010_x86_64.whl (48.4 MB)\n",
            "\u001b[K     |████████████████████████████████| 48.4 MB 4.8 kB/s \n",
            "\u001b[?25hInstalling collected packages: SimpleITK\n",
            "Successfully installed SimpleITK-2.1.1\n"
          ]
        }
      ]
    },
    {
      "cell_type": "code",
      "metadata": {
        "colab": {
          "base_uri": "https://localhost:8080/"
        },
        "id": "GyrCVnfpEsXb",
        "outputId": "601b09e1-8a03-453b-dc31-0cde3cd1b92c"
      },
      "source": [
        "!pip install dicom"
      ],
      "execution_count": 22,
      "outputs": [
        {
          "output_type": "stream",
          "name": "stdout",
          "text": [
            "Collecting dicom\n",
            "  Downloading dicom-0.9.9.post1-py3-none-any.whl (766 kB)\n",
            "\u001b[?25l\r\u001b[K     |▍                               | 10 kB 26.5 MB/s eta 0:00:01\r\u001b[K     |▉                               | 20 kB 33.6 MB/s eta 0:00:01\r\u001b[K     |█▎                              | 30 kB 38.7 MB/s eta 0:00:01\r\u001b[K     |█▊                              | 40 kB 39.7 MB/s eta 0:00:01\r\u001b[K     |██▏                             | 51 kB 18.8 MB/s eta 0:00:01\r\u001b[K     |██▋                             | 61 kB 20.8 MB/s eta 0:00:01\r\u001b[K     |███                             | 71 kB 22.9 MB/s eta 0:00:01\r\u001b[K     |███▍                            | 81 kB 23.8 MB/s eta 0:00:01\r\u001b[K     |███▉                            | 92 kB 25.8 MB/s eta 0:00:01\r\u001b[K     |████▎                           | 102 kB 24.9 MB/s eta 0:00:01\r\u001b[K     |████▊                           | 112 kB 24.9 MB/s eta 0:00:01\r\u001b[K     |█████▏                          | 122 kB 24.9 MB/s eta 0:00:01\r\u001b[K     |█████▋                          | 133 kB 24.9 MB/s eta 0:00:01\r\u001b[K     |██████                          | 143 kB 24.9 MB/s eta 0:00:01\r\u001b[K     |██████▍                         | 153 kB 24.9 MB/s eta 0:00:01\r\u001b[K     |██████▉                         | 163 kB 24.9 MB/s eta 0:00:01\r\u001b[K     |███████▎                        | 174 kB 24.9 MB/s eta 0:00:01\r\u001b[K     |███████▊                        | 184 kB 24.9 MB/s eta 0:00:01\r\u001b[K     |████████▏                       | 194 kB 24.9 MB/s eta 0:00:01\r\u001b[K     |████████▌                       | 204 kB 24.9 MB/s eta 0:00:01\r\u001b[K     |█████████                       | 215 kB 24.9 MB/s eta 0:00:01\r\u001b[K     |█████████▍                      | 225 kB 24.9 MB/s eta 0:00:01\r\u001b[K     |█████████▉                      | 235 kB 24.9 MB/s eta 0:00:01\r\u001b[K     |██████████▎                     | 245 kB 24.9 MB/s eta 0:00:01\r\u001b[K     |██████████▊                     | 256 kB 24.9 MB/s eta 0:00:01\r\u001b[K     |███████████▏                    | 266 kB 24.9 MB/s eta 0:00:01\r\u001b[K     |███████████▌                    | 276 kB 24.9 MB/s eta 0:00:01\r\u001b[K     |████████████                    | 286 kB 24.9 MB/s eta 0:00:01\r\u001b[K     |████████████▍                   | 296 kB 24.9 MB/s eta 0:00:01\r\u001b[K     |████████████▉                   | 307 kB 24.9 MB/s eta 0:00:01\r\u001b[K     |█████████████▎                  | 317 kB 24.9 MB/s eta 0:00:01\r\u001b[K     |█████████████▊                  | 327 kB 24.9 MB/s eta 0:00:01\r\u001b[K     |██████████████                  | 337 kB 24.9 MB/s eta 0:00:01\r\u001b[K     |██████████████▌                 | 348 kB 24.9 MB/s eta 0:00:01\r\u001b[K     |███████████████                 | 358 kB 24.9 MB/s eta 0:00:01\r\u001b[K     |███████████████▍                | 368 kB 24.9 MB/s eta 0:00:01\r\u001b[K     |███████████████▉                | 378 kB 24.9 MB/s eta 0:00:01\r\u001b[K     |████████████████▎               | 389 kB 24.9 MB/s eta 0:00:01\r\u001b[K     |████████████████▊               | 399 kB 24.9 MB/s eta 0:00:01\r\u001b[K     |█████████████████               | 409 kB 24.9 MB/s eta 0:00:01\r\u001b[K     |█████████████████▌              | 419 kB 24.9 MB/s eta 0:00:01\r\u001b[K     |██████████████████              | 430 kB 24.9 MB/s eta 0:00:01\r\u001b[K     |██████████████████▍             | 440 kB 24.9 MB/s eta 0:00:01\r\u001b[K     |██████████████████▉             | 450 kB 24.9 MB/s eta 0:00:01\r\u001b[K     |███████████████████▎            | 460 kB 24.9 MB/s eta 0:00:01\r\u001b[K     |███████████████████▊            | 471 kB 24.9 MB/s eta 0:00:01\r\u001b[K     |████████████████████            | 481 kB 24.9 MB/s eta 0:00:01\r\u001b[K     |████████████████████▌           | 491 kB 24.9 MB/s eta 0:00:01\r\u001b[K     |█████████████████████           | 501 kB 24.9 MB/s eta 0:00:01\r\u001b[K     |█████████████████████▍          | 512 kB 24.9 MB/s eta 0:00:01\r\u001b[K     |█████████████████████▉          | 522 kB 24.9 MB/s eta 0:00:01\r\u001b[K     |██████████████████████▎         | 532 kB 24.9 MB/s eta 0:00:01\r\u001b[K     |██████████████████████▋         | 542 kB 24.9 MB/s eta 0:00:01\r\u001b[K     |███████████████████████         | 552 kB 24.9 MB/s eta 0:00:01\r\u001b[K     |███████████████████████▌        | 563 kB 24.9 MB/s eta 0:00:01\r\u001b[K     |████████████████████████        | 573 kB 24.9 MB/s eta 0:00:01\r\u001b[K     |████████████████████████▍       | 583 kB 24.9 MB/s eta 0:00:01\r\u001b[K     |████████████████████████▉       | 593 kB 24.9 MB/s eta 0:00:01\r\u001b[K     |█████████████████████████▎      | 604 kB 24.9 MB/s eta 0:00:01\r\u001b[K     |█████████████████████████▋      | 614 kB 24.9 MB/s eta 0:00:01\r\u001b[K     |██████████████████████████      | 624 kB 24.9 MB/s eta 0:00:01\r\u001b[K     |██████████████████████████▌     | 634 kB 24.9 MB/s eta 0:00:01\r\u001b[K     |███████████████████████████     | 645 kB 24.9 MB/s eta 0:00:01\r\u001b[K     |███████████████████████████▍    | 655 kB 24.9 MB/s eta 0:00:01\r\u001b[K     |███████████████████████████▉    | 665 kB 24.9 MB/s eta 0:00:01\r\u001b[K     |████████████████████████████▏   | 675 kB 24.9 MB/s eta 0:00:01\r\u001b[K     |████████████████████████████▋   | 686 kB 24.9 MB/s eta 0:00:01\r\u001b[K     |█████████████████████████████   | 696 kB 24.9 MB/s eta 0:00:01\r\u001b[K     |█████████████████████████████▌  | 706 kB 24.9 MB/s eta 0:00:01\r\u001b[K     |██████████████████████████████  | 716 kB 24.9 MB/s eta 0:00:01\r\u001b[K     |██████████████████████████████▍ | 727 kB 24.9 MB/s eta 0:00:01\r\u001b[K     |██████████████████████████████▉ | 737 kB 24.9 MB/s eta 0:00:01\r\u001b[K     |███████████████████████████████▏| 747 kB 24.9 MB/s eta 0:00:01\r\u001b[K     |███████████████████████████████▋| 757 kB 24.9 MB/s eta 0:00:01\r\u001b[K     |████████████████████████████████| 766 kB 24.9 MB/s \n",
            "\u001b[?25hInstalling collected packages: dicom\n",
            "Successfully installed dicom-0.9.9.post1\n"
          ]
        }
      ]
    },
    {
      "cell_type": "code",
      "metadata": {
        "colab": {
          "base_uri": "https://localhost:8080/"
        },
        "id": "uExpSs2VC3Ei",
        "outputId": "1ce484f3-0ff3-4e50-d54c-4b1c22a86524"
      },
      "source": [
        "import SimpleITK as simp\n",
        "import dicom"
      ],
      "execution_count": 23,
      "outputs": [
        {
          "output_type": "stream",
          "name": "stderr",
          "text": [
            "/usr/local/lib/python3.7/dist-packages/dicom/__init__.py:53: UserWarning: \n",
            "This code is using an older version of pydicom, which is no longer \n",
            "maintained as of Jan 2017.  You can access the new pydicom features and API \n",
            "by installing `pydicom` from PyPI.\n",
            "See 'Transitioning to pydicom 1.x' section at pydicom.readthedocs.org \n",
            "for more information.\n",
            "\n",
            "  warnings.warn(msg)\n"
          ]
        }
      ]
    },
    {
      "cell_type": "code",
      "metadata": {
        "colab": {
          "base_uri": "https://localhost:8080/"
        },
        "id": "1_JpLafSE9Ud",
        "outputId": "17d35e24-a59e-4fe6-f5ad-c9640367edaa"
      },
      "source": [
        "!pip install tciaclient"
      ],
      "execution_count": 24,
      "outputs": [
        {
          "output_type": "stream",
          "name": "stdout",
          "text": [
            "Collecting tciaclient\n",
            "  Downloading tciaclient-0.0.3-py3-none-any.whl (8.6 kB)\n",
            "Requirement already satisfied: packaging in /usr/local/lib/python3.7/dist-packages (from tciaclient) (21.0)\n",
            "Requirement already satisfied: pip in /usr/local/lib/python3.7/dist-packages (from tciaclient) (21.1.3)\n",
            "Requirement already satisfied: pyparsing>=2.0.2 in /usr/local/lib/python3.7/dist-packages (from packaging->tciaclient) (2.4.7)\n",
            "Installing collected packages: tciaclient\n",
            "Successfully installed tciaclient-0.0.3\n"
          ]
        }
      ]
    },
    {
      "cell_type": "code",
      "metadata": {
        "id": "xYbN2pN1GkBM"
      },
      "source": [
        "import tciaclient as tcia"
      ],
      "execution_count": 25,
      "outputs": []
    },
    {
      "cell_type": "code",
      "metadata": {
        "id": "hKgCYNmIG5vV"
      },
      "source": [
        ""
      ],
      "execution_count": null,
      "outputs": []
    }
  ]
}