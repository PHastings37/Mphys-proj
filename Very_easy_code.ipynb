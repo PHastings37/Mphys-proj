{
  "nbformat": 4,
  "nbformat_minor": 0,
  "metadata": {
    "colab": {
      "name": "Very easy code",
      "provenance": [],
      "authorship_tag": "ABX9TyPlD2Anj6jND+fYWT10xnus",
      "include_colab_link": true
    },
    "kernelspec": {
      "name": "python3",
      "display_name": "Python 3"
    },
    "language_info": {
      "name": "python"
    }
  },
  "cells": [
    {
      "cell_type": "markdown",
      "metadata": {
        "id": "view-in-github",
        "colab_type": "text"
      },
      "source": [
        "<a href=\"https://colab.research.google.com/github/PHastings37/Mphys-proj/blob/main/Very_easy_code.ipynb\" target=\"_parent\"><img src=\"https://colab.research.google.com/assets/colab-badge.svg\" alt=\"Open In Colab\"/></a>"
      ]
    },
    {
      "cell_type": "code",
      "metadata": {
        "colab": {
          "base_uri": "https://localhost:8080/"
        },
        "id": "hGz6xxfx1o3s",
        "outputId": "9bdca2d6-63df-4197-be7c-0a7152aac782"
      },
      "source": [
        "from google.colab import drive\n",
        "drive.mount('/content/gdrive')"
      ],
      "execution_count": 18,
      "outputs": [
        {
          "output_type": "stream",
          "name": "stdout",
          "text": [
            "Drive already mounted at /content/gdrive; to attempt to forcibly remount, call drive.mount(\"/content/gdrive\", force_remount=True).\n"
          ]
        }
      ]
    },
    {
      "cell_type": "code",
      "metadata": {
        "colab": {
          "base_uri": "https://localhost:8080/"
        },
        "id": "DvYD22UG5Ygg",
        "outputId": "5bb72a8e-e0e2-4da3-cdb0-dfd55399b19c"
      },
      "source": [
        "%cd /content/gdrive/MyDrive/Mphys project"
      ],
      "execution_count": 19,
      "outputs": [
        {
          "output_type": "stream",
          "name": "stdout",
          "text": [
            "/content/gdrive/MyDrive/Mphys project\n"
          ]
        }
      ]
    },
    {
      "cell_type": "code",
      "metadata": {
        "id": "m6TnBUAK5kcX"
      },
      "source": [
        "with open('testdata.tcia') as f:\n",
        "  lines = f.readlines()"
      ],
      "execution_count": 20,
      "outputs": []
    },
    {
      "cell_type": "code",
      "metadata": {
        "colab": {
          "base_uri": "https://localhost:8080/"
        },
        "id": "aWTCOvxl6pZo",
        "outputId": "6b5836ec-1e9d-48eb-a5e2-7883a6bf91c3"
      },
      "source": [
        "print(f)"
      ],
      "execution_count": 21,
      "outputs": [
        {
          "output_type": "stream",
          "name": "stdout",
          "text": [
            "<_io.TextIOWrapper name='testdata.tcia' mode='r' encoding='UTF-8'>\n"
          ]
        }
      ]
    },
    {
      "cell_type": "code",
      "metadata": {
        "colab": {
          "base_uri": "https://localhost:8080/"
        },
        "id": "7ZETCLcp95NV",
        "outputId": "eaa6aeee-20c1-49ad-9307-dab783c04caf"
      },
      "source": [
        "!pip install SimpleITK"
      ],
      "execution_count": 22,
      "outputs": [
        {
          "output_type": "stream",
          "name": "stdout",
          "text": [
            "Requirement already satisfied: SimpleITK in /usr/local/lib/python3.7/dist-packages (2.1.1)\n"
          ]
        }
      ]
    },
    {
      "cell_type": "code",
      "metadata": {
        "colab": {
          "base_uri": "https://localhost:8080/"
        },
        "id": "GyrCVnfpEsXb",
        "outputId": "516614b4-6fd3-409f-87b0-b4f6ca992137"
      },
      "source": [
        "!pip install dicom"
      ],
      "execution_count": 23,
      "outputs": [
        {
          "output_type": "stream",
          "name": "stdout",
          "text": [
            "Requirement already satisfied: dicom in /usr/local/lib/python3.7/dist-packages (0.9.9.post1)\n"
          ]
        }
      ]
    },
    {
      "cell_type": "code",
      "metadata": {
        "colab": {
          "base_uri": "https://localhost:8080/"
        },
        "id": "_Vdisf7rI2b9",
        "outputId": "03b4e9f9-a1e8-41d4-9c2d-d5ce2c4bfd4d"
      },
      "source": [
        "!pip install dicom"
      ],
      "execution_count": 25,
      "outputs": [
        {
          "output_type": "stream",
          "name": "stdout",
          "text": [
            "Requirement already satisfied: dicom in /usr/local/lib/python3.7/dist-packages (0.9.9.post1)\n"
          ]
        }
      ]
    },
    {
      "cell_type": "code",
      "metadata": {
        "id": "uExpSs2VC3Ei"
      },
      "source": [
        "import SimpleITK as simp\n",
        "import dicom"
      ],
      "execution_count": null,
      "outputs": []
    },
    {
      "cell_type": "code",
      "metadata": {
        "colab": {
          "base_uri": "https://localhost:8080/"
        },
        "id": "1_JpLafSE9Ud",
        "outputId": "17d35e24-a59e-4fe6-f5ad-c9640367edaa"
      },
      "source": [
        "!pip install tciaclient"
      ],
      "execution_count": null,
      "outputs": [
        {
          "output_type": "stream",
          "name": "stdout",
          "text": [
            "Collecting tciaclient\n",
            "  Downloading tciaclient-0.0.3-py3-none-any.whl (8.6 kB)\n",
            "Requirement already satisfied: packaging in /usr/local/lib/python3.7/dist-packages (from tciaclient) (21.0)\n",
            "Requirement already satisfied: pip in /usr/local/lib/python3.7/dist-packages (from tciaclient) (21.1.3)\n",
            "Requirement already satisfied: pyparsing>=2.0.2 in /usr/local/lib/python3.7/dist-packages (from packaging->tciaclient) (2.4.7)\n",
            "Installing collected packages: tciaclient\n",
            "Successfully installed tciaclient-0.0.3\n"
          ]
        }
      ]
    },
    {
      "cell_type": "code",
      "metadata": {
        "id": "xYbN2pN1GkBM"
      },
      "source": [
        "import tciaclient as tcia\n",
        "import SimpleITK as simp\n",
        "import pydicom"
      ],
      "execution_count": 26,
      "outputs": []
    },
    {
      "cell_type": "code",
      "metadata": {
        "id": "tclbaDvGNM5R"
      },
      "source": [
        ""
      ],
      "execution_count": null,
      "outputs": []
    },
    {
      "cell_type": "code",
      "metadata": {
        "colab": {
          "base_uri": "https://localhost:8080/"
        },
        "id": "hKgCYNmIG5vV",
        "outputId": "6685f52d-bd24-4ba0-c82a-5f6c47800627"
      },
      "source": [
        "import matplotlib.pyplot as plt\n",
        "from pydicom import dcmread\n",
        "from pydicom.data import get_testdata_file\n",
        "\n",
        "fpath = get_testdata_file('test.dcm')\n",
        "ds = dcmread('test.dcm')\n",
        "print(ds)"
      ],
      "execution_count": 37,
      "outputs": [
        {
          "output_type": "stream",
          "name": "stdout",
          "text": [
            "Dataset.file_meta -------------------------------\n",
            "(0002, 0000) File Meta Information Group Length  UL: 204\n",
            "(0002, 0001) File Meta Information Version       OB: b'\\x00\\x01'\n",
            "(0002, 0002) Media Storage SOP Class UID         UI: CT Image Storage\n",
            "(0002, 0003) Media Storage SOP Instance UID      UI: 1.3.6.1.4.1.32722.99.99.5914374636395993349296627281745948215\n",
            "(0002, 0010) Transfer Syntax UID                 UI: Explicit VR Little Endian\n",
            "(0002, 0012) Implementation Class UID            UI: 1.3.6.1.4.1.22213.1.143\n",
            "(0002, 0013) Implementation Version Name         SH: '0.5'\n",
            "(0002, 0016) Source Application Entity Title     AE: 'POSDA'\n",
            "-------------------------------------------------\n",
            "(0008, 0005) Specific Character Set              CS: 'ISO_IR 100'\n",
            "(0008, 0008) Image Type                          CS: ['ORIGINAL', 'PRIMARY', 'AXIAL', 'CT_SOM5 SPI']\n",
            "(0008, 0016) SOP Class UID                       UI: CT Image Storage\n",
            "(0008, 0018) SOP Instance UID                    UI: 1.3.6.1.4.1.32722.99.99.5914374636395993349296627281745948215\n",
            "(0008, 0020) Study Date                          DA: '20080918'\n",
            "(0008, 0021) Series Date                         DA: '20080918'\n",
            "(0008, 0022) Acquisition Date                    DA: '20080918'\n",
            "(0008, 0023) Content Date                        DA: '20080918'\n",
            "(0008, 0030) Study Time                          TM: '110915.625000'\n",
            "(0008, 0031) Series Time                         TM: '121748.328000'\n",
            "(0008, 0032) Acquisition Time                    TM: '113840.421787'\n",
            "(0008, 0033) Content Time                        TM: '113840.421787'\n",
            "(0008, 0050) Accession Number                    SH: '2819497684894126'\n",
            "(0008, 0060) Modality                            CS: 'CT'\n",
            "(0008, 0070) Manufacturer                        LO: 'SIEMENS'\n",
            "(0008, 0090) Referring Physician's Name          PN: ''\n",
            "(0008, 1090) Manufacturer's Model Name           LO: 'Biograph 40'\n",
            "(0009, 0010) Private Creator                     LO: 'SIEMENS CT VA1 DUMMY'\n",
            "(0010, 0010) Patient's Name                      PN: 'LUNG1-001'\n",
            "(0010, 0020) Patient ID                          LO: 'LUNG1-001'\n",
            "(0010, 0030) Patient's Birth Date                DA: ''\n",
            "(0010, 0040) Patient's Sex                       CS: 'M'\n",
            "(0010, 1010) Patient's Age                       AS: '083Y'\n",
            "(0010, 1030) Patient's Weight                    DS: '72.0'\n",
            "(0012, 0062) Patient Identity Removed            CS: 'YES'\n",
            "(0013, 0010) Private Creator                     LO: 'CTP'\n",
            "(0013, 1010) Private tag data                    LO: 'NSCLC-Radiomics'\n",
            "(0013, 1013) Private tag data                    LO: '72215020'\n",
            "(0018, 0015) Body Part Examined                  CS: 'LUNG'\n",
            "(0018, 0022) Scan Options                        CS: 'TM50PC2366'\n",
            "(0018, 0050) Slice Thickness                     DS: '3.0'\n",
            "(0018, 0060) KVP                                 DS: '120.0'\n",
            "(0018, 0090) Data Collection Diameter            DS: '500.0'\n",
            "(0018, 1020) Software Versions                   LO: 'syngo CT 2006A'\n",
            "(0018, 1030) Protocol Name                       LO: 'RCCTPET_THORAX_CONTRAST_dag0'\n",
            "(0018, 1100) Reconstruction Diameter             DS: '500.0'\n",
            "(0018, 1110) Distance Source to Detector         DS: '1040.0'\n",
            "(0018, 1111) Distance Source to Patient          DS: '570.0'\n",
            "(0018, 1120) Gantry/Detector Tilt                DS: '0.0'\n",
            "(0018, 1130) Table Height                        DS: '0.0'\n",
            "(0018, 1140) Rotation Direction                  CS: 'CW'\n",
            "(0018, 1150) Exposure Time                       IS: '361'\n",
            "(0018, 1151) X-Ray Tube Current                  IS: '80'\n",
            "(0018, 1152) Exposure                            IS: '400'\n",
            "(0018, 1160) Filter Type                         SH: '0'\n",
            "(0018, 1170) Generator Power                     IS: '9'\n",
            "(0018, 1190) Focal Spot(s)                       DS: '1.2'\n",
            "(0018, 1200) Date of Last Calibration            DA: '20080918'\n",
            "(0018, 1201) Time of Last Calibration            TM: '082644.000000'\n",
            "(0018, 1210) Convolution Kernel                  SH: 'B19f'\n",
            "(0018, 5100) Patient Position                    CS: 'HFS'\n",
            "(0019, 0010) Private Creator                     LO: 'SIEMENS CT VA0  COAD'\n",
            "(0020, 000d) Study Instance UID                  UI: 1.3.6.1.4.1.32722.99.99.239341353911714368772597187099978969331\n",
            "(0020, 000e) Series Instance UID                 UI: 1.3.6.1.4.1.32722.99.99.298991776521342375010861296712563382046\n",
            "(0020, 0010) Study ID                            SH: ''\n",
            "(0020, 0011) Series Number                       IS: '0'\n",
            "(0020, 0012) Acquisition Number                  IS: '2'\n",
            "(0020, 0013) Instance Number                     IS: '5'\n",
            "(0020, 0032) Image Position (Patient)            DS: [-249.51171875, -460.51171875, -294.5]\n",
            "(0020, 0037) Image Orientation (Patient)         DS: [1, 0, 0, 0, 1, 0]\n",
            "(0020, 0052) Frame of Reference UID              UI: 1.3.6.1.4.1.32722.99.99.159382531350253250387871175467326315430\n",
            "(0020, 1040) Position Reference Indicator        LO: ''\n",
            "(0020, 1041) Slice Location                      DS: '-294.5'\n",
            "(0021, 0010) Private Creator                     LO: 'SIEMENS MED'\n",
            "(0028, 0002) Samples per Pixel                   US: 1\n",
            "(0028, 0004) Photometric Interpretation          CS: 'MONOCHROME2'\n",
            "(0028, 0010) Rows                                US: 512\n",
            "(0028, 0011) Columns                             US: 512\n",
            "(0028, 0030) Pixel Spacing                       DS: [0.9765625, 0.9765625]\n",
            "(0028, 0100) Bits Allocated                      US: 16\n",
            "(0028, 0101) Bits Stored                         US: 16\n",
            "(0028, 0102) High Bit                            US: 15\n",
            "(0028, 0103) Pixel Representation                US: 0\n",
            "(0028, 0106) Smallest Image Pixel Value          US: 0\n",
            "(0028, 0107) Largest Image Pixel Value           US: 2406\n",
            "(0028, 0303) Longitudinal Temporal Information M CS: 'MODIFIED'\n",
            "(0028, 1050) Window Center                       DS: [40, -600]\n",
            "(0028, 1051) Window Width                        DS: [400, 1200]\n",
            "(0028, 1052) Rescale Intercept                   DS: '-1024.0'\n",
            "(0028, 1053) Rescale Slope                       DS: '1.0'\n",
            "(0028, 1055) Window Center & Width Explanation   LO: ['WINDOW1', 'WINDOW2']\n",
            "(0029, 0010) Private Creator                     LO: 'SIEMENS CSA HEADER'\n",
            "(0029, 0011) Private Creator                     LO: 'SIEMENS MEDCOM HEADER'\n",
            "(1099, 0010) Private Creator                     LO: 'TABLE_HEIGHT'\n",
            "(7fe0, 0010) Pixel Data                          OW: Array of 524288 elements\n"
          ]
        }
      ]
    }
  ]
}