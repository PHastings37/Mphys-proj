{
 "cells": [
  {
   "cell_type": "code",
   "execution_count": 81,
   "metadata": {},
   "outputs": [],
   "source": [
    "import torch\n",
    "from torch import nn\n",
    "from torch.utils.data import DataLoader\n",
    "from torchvision import datasets\n",
    "from torchvision.transforms import ToTensor, Lambda, Compose\n",
    "import matplotlib.pyplot as plt\n",
    "import numpy as np\n",
    "import SimpleITK as sitk\n",
    "import os\n",
    "from torchvision.io import read_image\n",
    "from PIL import Image\n",
    "\n",
    "\n",
    "\n",
    "niftypath = \"/mnt/c/Users/Patrick/Documents/MPHYS_DATA_NIFTY\"\n",
    "croppath = \"/mnt/c/Users/Patrick/Documents/MPHYS_DATA_CROPPED\""
   ]
  },
  {
   "cell_type": "code",
   "execution_count": null,
   "metadata": {},
   "outputs": [],
   "source": [
    "# Download training data from open datasets.\n",
    "training_data = datasets.FashionMNIST(\n",
    "    root=\"data\",\n",
    "    train=True,\n",
    "    download=True,\n",
    "    transform=ToTensor(),\n",
    ")\n",
    "\n",
    "# Download test data from open datasets.\n",
    "test_data = datasets.FashionMNIST(\n",
    "    root=\"data\",\n",
    "    train=False,\n",
    "    download=True,\n",
    "    transform=ToTensor(),\n",
    ")"
   ]
  },
  {
   "cell_type": "code",
   "execution_count": 5,
   "metadata": {},
   "outputs": [
    {
     "name": "stdout",
     "output_type": "stream",
     "text": [
      "Dataset FashionMNIST\n",
      "    Number of datapoints: 10000\n",
      "    Root location: data\n",
      "    Split: Test\n",
      "    StandardTransform\n",
      "Transform: ToTensor()\n"
     ]
    }
   ],
   "source": [
    "print(test_data)"
   ]
  },
  {
   "cell_type": "code",
   "execution_count": 10,
   "metadata": {},
   "outputs": [
    {
     "name": "stdout",
     "output_type": "stream",
     "text": [
      "Shape of X [N, C, H, W]:  torch.Size([64, 1, 28, 28])\n",
      "Shape of y:  torch.Size([64]) torch.int64\n"
     ]
    }
   ],
   "source": [
    "batch_size = 64\n",
    "\n",
    "# Create data loaders.\n",
    "train_dataloader = DataLoader(training_data, batch_size=batch_size)\n",
    "test_dataloader = DataLoader(test_data, batch_size=batch_size)\n",
    "\n",
    "for X, y in test_dataloader:\n",
    "    print(\"Shape of X [N, C, H, W]: \", X.shape)\n",
    "    print(\"Shape of y: \", y.shape, y.dtype)\n",
    "    break"
   ]
  },
  {
   "cell_type": "code",
   "execution_count": 96,
   "metadata": {},
   "outputs": [
    {
     "name": "stdout",
     "output_type": "stream",
     "text": [
      "/mnt/c/Users/Patrick/Documents/MPHYS_DATA_CROPPED/LUNG1-001-CT.nii\n",
      "torch.int32\n",
      "/mnt/c/Users/Patrick/Documents/MPHYS_DATA_CROPPED/LUNG1-001-RTSTRUCT.nii\n",
      "torch.float32\n",
      "/mnt/c/Users/Patrick/Documents/MPHYS_DATA_CROPPED/LUNG1-002-CT.nii\n",
      "torch.int16\n",
      "/mnt/c/Users/Patrick/Documents/MPHYS_DATA_CROPPED/LUNG1-002-RTSTRUCT.nii\n",
      "torch.float32\n",
      "/mnt/c/Users/Patrick/Documents/MPHYS_DATA_CROPPED/LUNG1-003-CT.nii\n",
      "torch.int16\n",
      "/mnt/c/Users/Patrick/Documents/MPHYS_DATA_CROPPED/LUNG1-003-RTSTRUCT.nii\n",
      "torch.float32\n",
      "/mnt/c/Users/Patrick/Documents/MPHYS_DATA_CROPPED/LUNG1-004-CT.nii\n",
      "torch.int32\n",
      "/mnt/c/Users/Patrick/Documents/MPHYS_DATA_CROPPED/LUNG1-004-RTSTRUCT.nii\n",
      "torch.float32\n",
      "/mnt/c/Users/Patrick/Documents/MPHYS_DATA_CROPPED/LUNG1-005-CT.nii\n",
      "torch.int16\n",
      "/mnt/c/Users/Patrick/Documents/MPHYS_DATA_CROPPED/LUNG1-005-RTSTRUCT.nii\n",
      "torch.float32\n",
      "/mnt/c/Users/Patrick/Documents/MPHYS_DATA_CROPPED/LUNG1-006-CT.nii\n",
      "torch.int16\n",
      "/mnt/c/Users/Patrick/Documents/MPHYS_DATA_CROPPED/LUNG1-006-RTSTRUCT.nii\n",
      "torch.float32\n",
      "/mnt/c/Users/Patrick/Documents/MPHYS_DATA_CROPPED/LUNG1-007-CT.nii\n",
      "torch.int16\n",
      "/mnt/c/Users/Patrick/Documents/MPHYS_DATA_CROPPED/LUNG1-007-RTSTRUCT.nii\n",
      "torch.float32\n",
      "/mnt/c/Users/Patrick/Documents/MPHYS_DATA_CROPPED/LUNG1-008-CT.nii\n",
      "torch.int16\n",
      "/mnt/c/Users/Patrick/Documents/MPHYS_DATA_CROPPED/LUNG1-008-RTSTRUCT.nii\n",
      "torch.float32\n",
      "/mnt/c/Users/Patrick/Documents/MPHYS_DATA_CROPPED/LUNG1-009-CT.nii\n",
      "torch.int16\n",
      "/mnt/c/Users/Patrick/Documents/MPHYS_DATA_CROPPED/LUNG1-009-RTSTRUCT.nii\n",
      "torch.float32\n",
      "/mnt/c/Users/Patrick/Documents/MPHYS_DATA_CROPPED/LUNG1-010-CT.nii\n",
      "torch.int16\n",
      "/mnt/c/Users/Patrick/Documents/MPHYS_DATA_CROPPED/LUNG1-010-RTSTRUCT.nii\n",
      "torch.float32\n",
      "/mnt/c/Users/Patrick/Documents/MPHYS_DATA_CROPPED/LUNG1-011-CT.nii\n",
      "torch.int16\n",
      "/mnt/c/Users/Patrick/Documents/MPHYS_DATA_CROPPED/LUNG1-011-RTSTRUCT.nii\n",
      "torch.float32\n",
      "/mnt/c/Users/Patrick/Documents/MPHYS_DATA_CROPPED/LUNG1-012-CT.nii\n",
      "torch.int16\n",
      "/mnt/c/Users/Patrick/Documents/MPHYS_DATA_CROPPED/LUNG1-012-RTSTRUCT.nii\n",
      "torch.float32\n",
      "/mnt/c/Users/Patrick/Documents/MPHYS_DATA_CROPPED/LUNG1-013-CT.nii\n",
      "torch.int32\n",
      "/mnt/c/Users/Patrick/Documents/MPHYS_DATA_CROPPED/LUNG1-013-RTSTRUCT.nii\n",
      "torch.float32\n",
      "/mnt/c/Users/Patrick/Documents/MPHYS_DATA_CROPPED/LUNG1-014-CT.nii\n",
      "torch.int16\n",
      "/mnt/c/Users/Patrick/Documents/MPHYS_DATA_CROPPED/LUNG1-014-RTSTRUCT.nii\n",
      "torch.float32\n",
      "/mnt/c/Users/Patrick/Documents/MPHYS_DATA_CROPPED/LUNG1-015-CT.nii\n",
      "torch.int16\n",
      "/mnt/c/Users/Patrick/Documents/MPHYS_DATA_CROPPED/LUNG1-015-RTSTRUCT.nii\n",
      "torch.float32\n",
      "/mnt/c/Users/Patrick/Documents/MPHYS_DATA_CROPPED/LUNG1-016-CT.nii\n",
      "torch.int16\n",
      "/mnt/c/Users/Patrick/Documents/MPHYS_DATA_CROPPED/LUNG1-016-RTSTRUCT.nii\n",
      "torch.float32\n",
      "/mnt/c/Users/Patrick/Documents/MPHYS_DATA_CROPPED/LUNG1-017-CT.nii\n",
      "torch.int16\n",
      "/mnt/c/Users/Patrick/Documents/MPHYS_DATA_CROPPED/LUNG1-017-RTSTRUCT.nii\n",
      "torch.float32\n",
      "/mnt/c/Users/Patrick/Documents/MPHYS_DATA_CROPPED/LUNG1-018-CT.nii\n",
      "torch.int16\n",
      "/mnt/c/Users/Patrick/Documents/MPHYS_DATA_CROPPED/LUNG1-018-RTSTRUCT.nii\n",
      "torch.float32\n",
      "/mnt/c/Users/Patrick/Documents/MPHYS_DATA_CROPPED/LUNG1-019-CT.nii\n",
      "torch.int16\n",
      "/mnt/c/Users/Patrick/Documents/MPHYS_DATA_CROPPED/LUNG1-019-RTSTRUCT.nii\n",
      "torch.float32\n",
      "/mnt/c/Users/Patrick/Documents/MPHYS_DATA_CROPPED/LUNG1-020-CT.nii\n",
      "torch.int16\n",
      "/mnt/c/Users/Patrick/Documents/MPHYS_DATA_CROPPED/LUNG1-020-RTSTRUCT.nii\n",
      "torch.float32\n"
     ]
    }
   ],
   "source": [
    "idx = 0\n",
    "transform = ToTensor()\n",
    "\n",
    "class CustomImageDataset():\n",
    "    def __init__(self, croppath, transform=None, target_transfrom=None):\n",
    "        self.img_labels = os.listdir(croppath)\n",
    "        self.img_dir = croppath\n",
    "        self.transform=transform\n",
    "        #print(self.transform)\n",
    "        self.target_transform=target_transfrom\n",
    "\n",
    "    def __len__ (self):\n",
    "        return len(self.img_labels)\n",
    "\n",
    "    def __get_item__ (self, idx):\n",
    "        img_path = os.path.join(self.img_dir, self.img_labels[idx])\n",
    "        print(img_path)\n",
    "        image = sitk.ReadImage(img_path)\n",
    "        array = sitk.GetArrayFromImage(image)\n",
    "        tensor = torch.from_numpy(array)\n",
    "        #pil_img = Image.fromarray(array)\n",
    "        label = self.img_labels[idx]\n",
    "        # if self.transform(array):\n",
    "        #     array = ToTensor(array)\n",
    "        # if self.target_transform(label):\n",
    "        #     label = self.target_transform(label)\n",
    "        return(tensor,label)\n",
    "    \n",
    "\n",
    "for i in range(len(os.listdir(croppath))):\n",
    "    dataset = CustomImageDataset(croppath, ToTensor(), None)\n",
    "    array, label = dataset.__get_item__(i)\n",
    "    print(array.dtype)\n",
    "    \n",
    "    \n",
    "    \n",
    "\n"
   ]
  }
 ],
 "metadata": {
  "interpreter": {
   "hash": "898a5c184a2456bee6a9e0aa8f1ddb9db550ec871c364d22808e3fc0b1a91ec6"
  },
  "kernelspec": {
   "display_name": "Python 3.9.7 64-bit ('python38': conda)",
   "language": "python",
   "name": "python3"
  },
  "language_info": {
   "codemirror_mode": {
    "name": "ipython",
    "version": 3
   },
   "file_extension": ".py",
   "mimetype": "text/x-python",
   "name": "python",
   "nbconvert_exporter": "python",
   "pygments_lexer": "ipython3",
   "version": "3.9.7"
  },
  "orig_nbformat": 4
 },
 "nbformat": 4,
 "nbformat_minor": 2
}
