{
 "cells": [
  {
   "cell_type": "code",
   "execution_count": 57,
   "metadata": {},
   "outputs": [],
   "source": [
    "import torch\n",
    "from torch import nn\n",
    "from torch.utils.data import DataLoader\n",
    "from torchvision import datasets\n",
    "from torchvision.transforms import ToTensor, Lambda, Compose\n",
    "import matplotlib.pyplot as plt\n",
    "import numpy as np\n",
    "import SimpleITK as sitk\n",
    "import os\n",
    "from torchvision.io import read_image\n",
    "from PIL import Image\n",
    "import pandas as pd\n",
    "\n",
    "\n",
    "\n",
    "niftypath = \"/mnt/c/Users/Patrick/Documents/MPHYS_DATA_NIFTY\"\n",
    "croppath = \"/mnt/c/Users/Patrick/Documents/MPHYS_DATA_CROPPED\""
   ]
  },
  {
   "cell_type": "code",
   "execution_count": null,
   "metadata": {},
   "outputs": [],
   "source": [
    "# Download training data from open datasets.\n",
    "training_data = datasets.FashionMNIST(\n",
    "    root=\"data\",\n",
    "    train=True,\n",
    "    download=True,\n",
    "    transform=ToTensor(),\n",
    ")\n",
    "\n",
    "# Download test data from open datasets.\n",
    "test_data = datasets.FashionMNIST(\n",
    "    root=\"data\",\n",
    "    train=False,\n",
    "    download=True,\n",
    "    transform=ToTensor(),\n",
    ")"
   ]
  },
  {
   "cell_type": "code",
   "execution_count": 5,
   "metadata": {},
   "outputs": [
    {
     "name": "stdout",
     "output_type": "stream",
     "text": [
      "Dataset FashionMNIST\n",
      "    Number of datapoints: 10000\n",
      "    Root location: data\n",
      "    Split: Test\n",
      "    StandardTransform\n",
      "Transform: ToTensor()\n"
     ]
    }
   ],
   "source": [
    "print(test_data)"
   ]
  },
  {
   "cell_type": "code",
   "execution_count": 4,
   "metadata": {},
   "outputs": [
    {
     "ename": "NameError",
     "evalue": "name 'training_data' is not defined",
     "output_type": "error",
     "traceback": [
      "\u001b[0;31m---------------------------------------------------------------------------\u001b[0m",
      "\u001b[0;31mNameError\u001b[0m                                 Traceback (most recent call last)",
      "\u001b[0;32m/tmp/ipykernel_352/1715557382.py\u001b[0m in \u001b[0;36m<module>\u001b[0;34m\u001b[0m\n\u001b[1;32m      2\u001b[0m \u001b[0;34m\u001b[0m\u001b[0m\n\u001b[1;32m      3\u001b[0m \u001b[0;31m# Create data loaders.\u001b[0m\u001b[0;34m\u001b[0m\u001b[0;34m\u001b[0m\u001b[0m\n\u001b[0;32m----> 4\u001b[0;31m \u001b[0mtrain_dataloader\u001b[0m \u001b[0;34m=\u001b[0m \u001b[0mDataLoader\u001b[0m\u001b[0;34m(\u001b[0m\u001b[0mtraining_data\u001b[0m\u001b[0;34m,\u001b[0m \u001b[0mbatch_size\u001b[0m\u001b[0;34m=\u001b[0m\u001b[0mbatch_size\u001b[0m\u001b[0;34m)\u001b[0m\u001b[0;34m\u001b[0m\u001b[0;34m\u001b[0m\u001b[0m\n\u001b[0m\u001b[1;32m      5\u001b[0m \u001b[0mtest_dataloader\u001b[0m \u001b[0;34m=\u001b[0m \u001b[0mDataLoader\u001b[0m\u001b[0;34m(\u001b[0m\u001b[0mtest_data\u001b[0m\u001b[0;34m,\u001b[0m \u001b[0mbatch_size\u001b[0m\u001b[0;34m=\u001b[0m\u001b[0mbatch_size\u001b[0m\u001b[0;34m)\u001b[0m\u001b[0;34m\u001b[0m\u001b[0;34m\u001b[0m\u001b[0m\n\u001b[1;32m      6\u001b[0m \u001b[0;34m\u001b[0m\u001b[0m\n",
      "\u001b[0;31mNameError\u001b[0m: name 'training_data' is not defined"
     ]
    }
   ],
   "source": [
    "batch_size = 64\n",
    "\n",
    "# Create data loaders.\n",
    "train_dataloader = DataLoader(training_data, batch_size=batch_size)\n",
    "test_dataloader = DataLoader(test_data, batch_size=batch_size)\n",
    "\n",
    "for X, y in test_dataloader:\n",
    "    print(\"Shape of X [N, C, H, W]: \", X.shape)\n",
    "    print(\"Shape of y: \", y.shape, y.dtype)\n",
    "    break"
   ]
  },
  {
   "cell_type": "code",
   "execution_count": 83,
   "metadata": {},
   "outputs": [
    {
     "name": "stdout",
     "output_type": "stream",
     "text": [
      "/mnt/c/Users/Patrick/Documents/MPHYS_DATA_CROPPED/LUNG1-010-CT.nii\n",
      "/mnt/c/Users/Patrick/Documents/MPHYS_DATA_CROPPED/LUNG1-010-CT.nii 0\n",
      "(tensor([[[ -93, -388, -708,  ...,  -90,  -90,  -93],\n",
      "         [-405, -754, -898,  ...,  -98,  -92,  -98],\n",
      "         [-744, -910, -907,  ..., -103,  -84, -103],\n",
      "         ...,\n",
      "         [-101,  -88,  -90,  ...,   36,   42,   36],\n",
      "         [-117, -115, -122,  ...,   15,   28,   31],\n",
      "         [-107, -102, -108,  ...,   12,   13,   26]],\n",
      "\n",
      "        [[-113, -431, -769,  ...,  -85,  -84,  -78],\n",
      "         [-426, -774, -934,  ...,  -91,  -92,  -87],\n",
      "         [-757, -902, -911,  ...,  -91,  -81,  -99],\n",
      "         ...,\n",
      "         [ -93,  -79,  -85,  ...,   35,   39,   38],\n",
      "         [-121, -118, -127,  ...,   10,   24,   37],\n",
      "         [-104, -103, -115,  ...,    1,    8,   23]],\n",
      "\n",
      "        [[ -95, -424, -765,  ...,  -84,  -85,  -82],\n",
      "         [-428, -770, -917,  ...,  -93,  -94,  -85],\n",
      "         [-763, -901, -902,  ...,  -98,  -94,  -95],\n",
      "         ...,\n",
      "         [-106,  -90,  -91,  ...,   46,   57,   62],\n",
      "         [-121, -121, -128,  ...,   23,   35,   46],\n",
      "         [-104, -109, -120,  ...,   11,   17,   34]],\n",
      "\n",
      "        ...,\n",
      "\n",
      "        [[-116, -111, -124,  ...,  -84,  -49,   -1],\n",
      "         [-115, -104, -107,  ...,  -40,    1,   38],\n",
      "         [-113, -114, -117,  ...,   -5,   34,   59],\n",
      "         ...,\n",
      "         [ -84,  -56,  -29,  ...,  172,  164,  180],\n",
      "         [ -81,  -58,  -55,  ...,   25,   28,   33],\n",
      "         [ -72,  -58,  -57,  ...,   19,   21,    7]],\n",
      "\n",
      "        [[-110, -108, -121,  ...,  -85,  -67,  -37],\n",
      "         [-115, -105, -109,  ...,  -59,  -28,   -2],\n",
      "         [-116, -114, -119,  ...,  -44,   -3,   29],\n",
      "         ...,\n",
      "         [ -99,  -80,  -53,  ...,  129,  122,  130],\n",
      "         [ -88,  -72,  -65,  ...,   30,   36,   34],\n",
      "         [ -78,  -71,  -68,  ...,   25,   30,   11]],\n",
      "\n",
      "        [[-104, -104, -117,  ...,  -87,  -85,  -74],\n",
      "         [-116, -107, -111,  ...,  -78,  -58,  -43],\n",
      "         [-119, -113, -121,  ...,  -83,  -41,    0],\n",
      "         ...,\n",
      "         [-114, -104,  -78,  ...,   86,   80,   79],\n",
      "         [ -95,  -85,  -76,  ...,   35,   44,   35],\n",
      "         [ -83,  -84,  -79,  ...,   30,   40,   15]]], dtype=torch.int16), 0)\n"
     ]
    }
   ],
   "source": [
    "idx = 0\n",
    "transform = ToTensor()\n",
    "\n",
    "class CustomImageDataset():\n",
    "    def __init__(self, croppath, transform=None, target_transfrom=None):\n",
    "        self.img_labels = pd.read_csv(\"/mnt/c/Users/Patrick/Documents/NSCLC Radiomics Lung1.clinical-version3-Oct 2019(1).csv\")\n",
    "        #print(self.img_labels)\n",
    "        self.img_dir = croppath\n",
    "        self.transform=transform\n",
    "        #print(self.transform)\n",
    "        self.target_transform=target_transfrom\n",
    "\n",
    "    def __len__ (self):\n",
    "        return len(self.img_labels)\n",
    "\n",
    "    def __getitem__ (self, idx):\n",
    "        img_path = os.path.join(self.img_dir, f\"{self.img_labels.iloc[idx, 0]}-CT.nii\")\n",
    "        print(img_path)\n",
    "        image = sitk.ReadImage(img_path)\n",
    "        array = sitk.GetArrayFromImage(image)\n",
    "        tensor = torch.from_numpy(array)\n",
    "        time_to_death = self.img_labels.iloc[idx,8]\n",
    "        dead_status = self.img_labels.iloc[idx,9]\n",
    "        if time_to_death < 1.5*365 and dead_status == 1:\n",
    "            label=1\n",
    "        else:\n",
    "            label=0\n",
    "        print(img_path, label)\n",
    "        return(tensor,label)\n",
    "dataset = CustomImageDataset(croppath, ToTensor(), None)\n",
    "\n",
    "\n",
    "\n"
   ]
  },
  {
   "cell_type": "code",
   "execution_count": 52,
   "metadata": {},
   "outputs": [
    {
     "name": "stdout",
     "output_type": "stream",
     "text": [
      "/mnt/c/Users/Patrick/Documents/MPHYS_DATA_CROPPED/LUNG1-001-CT.nii\n"
     ]
    }
   ],
   "source": [
    "xyz = dataset.__getitem__(0)"
   ]
  },
  {
   "cell_type": "code",
   "execution_count": null,
   "metadata": {},
   "outputs": [],
   "source": [
    "fig = plt.figure()\n",
    "ax = fig.add_subplot(111, projection=\"3d\")\n",
    "z,x,y = np.argwhere(xyz)\n",
    "ax.scatter(x,y,z,c=z,alpha = 1)\n",
    "plt.show()"
   ]
  },
  {
   "cell_type": "code",
   "execution_count": 56,
   "metadata": {},
   "outputs": [
    {
     "name": "stdout",
     "output_type": "stream",
     "text": [
      "/mnt/c/Users/Patrick/Documents/MPHYS_DATA_CROPPED/LUNG1-005-CT.nii\n",
      "/mnt/c/Users/Patrick/Documents/MPHYS_DATA_CROPPED/LUNG1-017-CT.nii\n",
      "/mnt/c/Users/Patrick/Documents/MPHYS_DATA_CROPPED/LUNG1-003-RTSTRUCT.nii\n",
      "/mnt/c/Users/Patrick/Documents/MPHYS_DATA_CROPPED/LUNG1-018-CT.nii\n"
     ]
    }
   ],
   "source": [
    "train_dataloader = DataLoader(dataset, batch_size=4, shuffle=True)\n",
    "train_features = next(iter(train_dataloader))\n"
   ]
  },
  {
   "cell_type": "code",
   "execution_count": 21,
   "metadata": {},
   "outputs": [
    {
     "name": "stdout",
     "output_type": "stream",
     "text": [
      "cpu\n",
      "NeuralNetwork(\n",
      "  (flatten): Flatten(start_dim=1, end_dim=-1)\n",
      "  (linear_relu_stack): Sequential(\n",
      "    (0): Linear(in_features=784, out_features=512, bias=True)\n",
      "    (1): ReLU()\n",
      "    (2): Linear(in_features=512, out_features=512, bias=True)\n",
      "    (3): ReLU()\n",
      "    (4): Linear(in_features=512, out_features=10, bias=True)\n",
      "  )\n",
      ")\n"
     ]
    },
    {
     "ename": "TypeError",
     "evalue": "forward() missing 1 required positional argument: 'input'",
     "output_type": "error",
     "traceback": [
      "\u001b[0;31m---------------------------------------------------------------------------\u001b[0m",
      "\u001b[0;31mTypeError\u001b[0m                                 Traceback (most recent call last)",
      "\u001b[0;32m/tmp/ipykernel_352/3727482957.py\u001b[0m in \u001b[0;36m<module>\u001b[0;34m\u001b[0m\n\u001b[1;32m     20\u001b[0m \u001b[0mprint\u001b[0m\u001b[0;34m(\u001b[0m\u001b[0mmodel\u001b[0m\u001b[0;34m)\u001b[0m\u001b[0;34m\u001b[0m\u001b[0;34m\u001b[0m\u001b[0m\n\u001b[1;32m     21\u001b[0m \u001b[0;34m\u001b[0m\u001b[0m\n\u001b[0;32m---> 22\u001b[0;31m \u001b[0mlogits\u001b[0m \u001b[0;34m=\u001b[0m \u001b[0mmodel\u001b[0m\u001b[0;34m(\u001b[0m\u001b[0mtensor\u001b[0m\u001b[0;34m)\u001b[0m\u001b[0;34m\u001b[0m\u001b[0;34m\u001b[0m\u001b[0m\n\u001b[0m\u001b[1;32m     23\u001b[0m \u001b[0mpred_probab\u001b[0m \u001b[0;34m=\u001b[0m \u001b[0mnn\u001b[0m\u001b[0;34m.\u001b[0m\u001b[0mSoftmax\u001b[0m\u001b[0;34m(\u001b[0m\u001b[0mdim\u001b[0m\u001b[0;34m=\u001b[0m\u001b[0;36m1\u001b[0m\u001b[0;34m)\u001b[0m\u001b[0;34m(\u001b[0m\u001b[0mlogits\u001b[0m\u001b[0;34m)\u001b[0m\u001b[0;34m\u001b[0m\u001b[0;34m\u001b[0m\u001b[0m\n\u001b[1;32m     24\u001b[0m \u001b[0my_pred\u001b[0m \u001b[0;34m=\u001b[0m \u001b[0mpred_probab\u001b[0m\u001b[0;34m.\u001b[0m\u001b[0margmax\u001b[0m\u001b[0;34m(\u001b[0m\u001b[0;36m1\u001b[0m\u001b[0;34m)\u001b[0m\u001b[0;34m\u001b[0m\u001b[0;34m\u001b[0m\u001b[0m\n",
      "\u001b[0;32m~/anaconda3/envs/python38/lib/python3.9/site-packages/torch/nn/modules/module.py\u001b[0m in \u001b[0;36m_call_impl\u001b[0;34m(self, *input, **kwargs)\u001b[0m\n\u001b[1;32m   1100\u001b[0m         if not (self._backward_hooks or self._forward_hooks or self._forward_pre_hooks or _global_backward_hooks\n\u001b[1;32m   1101\u001b[0m                 or _global_forward_hooks or _global_forward_pre_hooks):\n\u001b[0;32m-> 1102\u001b[0;31m             \u001b[0;32mreturn\u001b[0m \u001b[0mforward_call\u001b[0m\u001b[0;34m(\u001b[0m\u001b[0;34m*\u001b[0m\u001b[0minput\u001b[0m\u001b[0;34m,\u001b[0m \u001b[0;34m**\u001b[0m\u001b[0mkwargs\u001b[0m\u001b[0;34m)\u001b[0m\u001b[0;34m\u001b[0m\u001b[0;34m\u001b[0m\u001b[0m\n\u001b[0m\u001b[1;32m   1103\u001b[0m         \u001b[0;31m# Do not call functions when jit is used\u001b[0m\u001b[0;34m\u001b[0m\u001b[0;34m\u001b[0m\u001b[0m\n\u001b[1;32m   1104\u001b[0m         \u001b[0mfull_backward_hooks\u001b[0m\u001b[0;34m,\u001b[0m \u001b[0mnon_full_backward_hooks\u001b[0m \u001b[0;34m=\u001b[0m \u001b[0;34m[\u001b[0m\u001b[0;34m]\u001b[0m\u001b[0;34m,\u001b[0m \u001b[0;34m[\u001b[0m\u001b[0;34m]\u001b[0m\u001b[0;34m\u001b[0m\u001b[0;34m\u001b[0m\u001b[0m\n",
      "\u001b[0;32m/tmp/ipykernel_352/3727482957.py\u001b[0m in \u001b[0;36mforward\u001b[0;34m(self, x)\u001b[0m\n\u001b[1;32m     15\u001b[0m     \u001b[0;32mdef\u001b[0m \u001b[0mforward\u001b[0m\u001b[0;34m(\u001b[0m\u001b[0mself\u001b[0m\u001b[0;34m,\u001b[0m \u001b[0mx\u001b[0m\u001b[0;34m)\u001b[0m\u001b[0;34m:\u001b[0m\u001b[0;34m\u001b[0m\u001b[0;34m\u001b[0m\u001b[0m\n\u001b[1;32m     16\u001b[0m         \u001b[0mx\u001b[0m \u001b[0;34m=\u001b[0m \u001b[0mself\u001b[0m\u001b[0;34m.\u001b[0m\u001b[0mflatten\u001b[0m\u001b[0;34m(\u001b[0m\u001b[0mx\u001b[0m\u001b[0;34m)\u001b[0m\u001b[0;34m\u001b[0m\u001b[0;34m\u001b[0m\u001b[0m\n\u001b[0;32m---> 17\u001b[0;31m         \u001b[0mlogits\u001b[0m \u001b[0;34m=\u001b[0m \u001b[0mself\u001b[0m\u001b[0;34m.\u001b[0m\u001b[0mlinear_relu_stack\u001b[0m\u001b[0;34m(\u001b[0m\u001b[0;34m)\u001b[0m\u001b[0;34m\u001b[0m\u001b[0;34m\u001b[0m\u001b[0m\n\u001b[0m\u001b[1;32m     18\u001b[0m         \u001b[0;32mreturn\u001b[0m \u001b[0mlogits\u001b[0m\u001b[0;34m\u001b[0m\u001b[0;34m\u001b[0m\u001b[0m\n\u001b[1;32m     19\u001b[0m \u001b[0mmodel\u001b[0m \u001b[0;34m=\u001b[0m \u001b[0mNeuralNetwork\u001b[0m\u001b[0;34m(\u001b[0m\u001b[0;34m)\u001b[0m\u001b[0;34m.\u001b[0m\u001b[0mto\u001b[0m\u001b[0;34m(\u001b[0m\u001b[0mdevice\u001b[0m\u001b[0;34m)\u001b[0m\u001b[0;34m\u001b[0m\u001b[0;34m\u001b[0m\u001b[0m\n",
      "\u001b[0;32m~/anaconda3/envs/python38/lib/python3.9/site-packages/torch/nn/modules/module.py\u001b[0m in \u001b[0;36m_call_impl\u001b[0;34m(self, *input, **kwargs)\u001b[0m\n\u001b[1;32m   1100\u001b[0m         if not (self._backward_hooks or self._forward_hooks or self._forward_pre_hooks or _global_backward_hooks\n\u001b[1;32m   1101\u001b[0m                 or _global_forward_hooks or _global_forward_pre_hooks):\n\u001b[0;32m-> 1102\u001b[0;31m             \u001b[0;32mreturn\u001b[0m \u001b[0mforward_call\u001b[0m\u001b[0;34m(\u001b[0m\u001b[0;34m*\u001b[0m\u001b[0minput\u001b[0m\u001b[0;34m,\u001b[0m \u001b[0;34m**\u001b[0m\u001b[0mkwargs\u001b[0m\u001b[0;34m)\u001b[0m\u001b[0;34m\u001b[0m\u001b[0;34m\u001b[0m\u001b[0m\n\u001b[0m\u001b[1;32m   1103\u001b[0m         \u001b[0;31m# Do not call functions when jit is used\u001b[0m\u001b[0;34m\u001b[0m\u001b[0;34m\u001b[0m\u001b[0m\n\u001b[1;32m   1104\u001b[0m         \u001b[0mfull_backward_hooks\u001b[0m\u001b[0;34m,\u001b[0m \u001b[0mnon_full_backward_hooks\u001b[0m \u001b[0;34m=\u001b[0m \u001b[0;34m[\u001b[0m\u001b[0;34m]\u001b[0m\u001b[0;34m,\u001b[0m \u001b[0;34m[\u001b[0m\u001b[0;34m]\u001b[0m\u001b[0;34m\u001b[0m\u001b[0;34m\u001b[0m\u001b[0m\n",
      "\u001b[0;31mTypeError\u001b[0m: forward() missing 1 required positional argument: 'input'"
     ]
    }
   ],
   "source": [
    "device = \"cuda\" if torch.cuda.is_available() else \"cpu\"\n",
    "print(device)\n",
    "\n",
    "class NeuralNetwork(nn.Module):\n",
    "    def __init__(self):\n",
    "        super(NeuralNetwork, self).__init__()\n",
    "        self.flatten = nn.Flatten()\n",
    "        self.linear_relu_stack = nn.Sequential(\n",
    "            nn.Linear(28*28, 512),\n",
    "            nn.ReLU(),\n",
    "            nn.Linear(512, 512),\n",
    "            nn.ReLU(),\n",
    "            nn.Linear(512, 10)\n",
    "        )\n",
    "    def forward(self, x):\n",
    "        x = self.flatten(x)\n",
    "        logits = self.linear_relu_stack()\n",
    "        return logits\n",
    "model = NeuralNetwork().to(device)\n",
    "print(model)\n",
    "\n",
    "logits = model(tensor)\n",
    "pred_probab = nn.Softmax(dim=1)(logits)\n",
    "y_pred = pred_probab.argmax(1)\n",
    "print(f\"predicted_class:{y_pred}\")"
   ]
  },
  {
   "cell_type": "code",
   "execution_count": 233,
   "metadata": {},
   "outputs": [
    {
     "name": "stdout",
     "output_type": "stream",
     "text": [
      "tensor([-0.0059,  0.0072,  0.0827,  0.0241, -0.1065,  0.1820, -0.0950,  0.0086,\n",
      "         0.0079,  0.1463, -0.0107,  0.0735, -0.1773, -0.0520, -0.1743,  0.0215,\n",
      "        -0.0589, -0.0503, -0.0424, -0.0243], grad_fn=<AddBackward0>)\n",
      "tensor([0.0000, 0.0072, 0.0827, 0.0241, 0.0000, 0.1820, 0.0000, 0.0086, 0.0079,\n",
      "        0.1463, 0.0000, 0.0735, 0.0000, 0.0000, 0.0000, 0.0215, 0.0000, 0.0000,\n",
      "        0.0000, 0.0000], grad_fn=<ReluBackward0>)\n"
     ]
    }
   ],
   "source": [
    "flatten = nn.Flatten()\n",
    "#x = np.array(tensor[0])\n",
    "#x = torch.tensor(x, dtype=torch.float32)\n",
    "#print(x)\n",
    "#print(x.shape)\n",
    "flat_tensor = tensor[0].flatten(start_dim=0, end_dim=-1)\n",
    "\n",
    "layer1 = nn.Linear(in_features=172*172*172, out_features=20)\n",
    "hidden1 = layer1(flat_tensor)\n",
    "print(hidden1)\n",
    "hidden1 = nn.ReLU()(hidden1)\n",
    "print(hidden1)"
   ]
  }
 ],
 "metadata": {
  "interpreter": {
   "hash": "898a5c184a2456bee6a9e0aa8f1ddb9db550ec871c364d22808e3fc0b1a91ec6"
  },
  "kernelspec": {
   "display_name": "Python 3.9.7 64-bit ('python38': conda)",
   "language": "python",
   "name": "python3"
  },
  "language_info": {
   "codemirror_mode": {
    "name": "ipython",
    "version": 3
   },
   "file_extension": ".py",
   "mimetype": "text/x-python",
   "name": "python",
   "nbconvert_exporter": "python",
   "pygments_lexer": "ipython3",
   "version": "3.9.7"
  },
  "orig_nbformat": 4
 },
 "nbformat": 4,
 "nbformat_minor": 2
}
