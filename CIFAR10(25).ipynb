{
  "nbformat": 4,
  "nbformat_minor": 0,
  "metadata": {
    "colab": {
      "name": "CIFAR10(25).ipynb",
      "provenance": [],
      "authorship_tag": "ABX9TyONHACE1+RyYhDOtN7dypmO",
      "include_colab_link": true
    },
    "kernelspec": {
      "display_name": "Python 3",
      "name": "python3"
    },
    "language_info": {
      "name": "python"
    }
  },
  "cells": [
    {
      "cell_type": "markdown",
      "metadata": {
        "id": "view-in-github",
        "colab_type": "text"
      },
      "source": [
        "<a href=\"https://colab.research.google.com/github/PHastings37/Mphys-proj/blob/main/CIFAR10(25).ipynb\" target=\"_parent\"><img src=\"https://colab.research.google.com/assets/colab-badge.svg\" alt=\"Open In Colab\"/></a>"
      ]
    },
    {
      "cell_type": "code",
      "metadata": {
        "colab": {
          "base_uri": "https://localhost:8080/"
        },
        "id": "q5P7pd3NE1ER",
        "outputId": "a96a9c54-4c9d-4521-b6a1-147b0bff2f38"
      },
      "source": [
        "from google.colab import drive\n",
        "drive.mount('/content/gdrive')"
      ],
      "execution_count": 3,
      "outputs": [
        {
          "output_type": "stream",
          "name": "stdout",
          "text": [
            "Drive already mounted at /content/gdrive; to attempt to forcibly remount, call drive.mount(\"/content/gdrive\", force_remount=True).\n"
          ]
        }
      ]
    },
    {
      "cell_type": "code",
      "metadata": {
        "colab": {
          "base_uri": "https://localhost:8080/"
        },
        "id": "sTBDg0CLJB0r",
        "outputId": "be6a6cf8-d769-4e82-80c5-89a02062fc16"
      },
      "source": [
        "%cd /content/gdrive/My Drive/Colab Notebooks"
      ],
      "execution_count": 4,
      "outputs": [
        {
          "output_type": "stream",
          "name": "stdout",
          "text": [
            "/content/gdrive/My Drive/Colab Notebooks\n"
          ]
        }
      ]
    },
    {
      "cell_type": "code",
      "metadata": {
        "id": "brlqNdQeJt7X"
      },
      "source": [
        "def unpickle(file):\n",
        "    import pickle\n",
        "    with open(file, 'rb') as fo:\n",
        "        dict = pickle.load(fo, encoding='bytes')\n",
        "    return dict\n",
        "\n",
        "\n",
        "dict1 = unpickle(\"data_batch_1\")\n",
        "dict2 = unpickle(\"data_batch_2\")\n",
        "dict3 = unpickle(\"data_batch_3\")\n",
        "dict4 = unpickle(\"data_batch_4\")\n",
        "dict5 = unpickle(\"data_batch_5\")\n",
        "dictmeta = unpickle(\"batches.meta\")\n",
        "dict_test = unpickle(\"test_batch\")"
      ],
      "execution_count": null,
      "outputs": []
    },
    {
      "cell_type": "code",
      "metadata": {
        "id": "C2HZGfMcShpM"
      },
      "source": [
        "image_array1 = dict1[b'data']\n",
        "labels1 = dict1[b'labels']\n",
        "label_names = dictmeta[b'label_names']"
      ],
      "execution_count": null,
      "outputs": []
    },
    {
      "cell_type": "code",
      "metadata": {
        "id": "IG5VrTnlv3No"
      },
      "source": [
        "test_image = dict_test[b'data']\n",
        "test_label = dict_test[b'labels']\n",
        "\n",
        "image_array1_rows = image_array1.reshape(image_array1.shape[0], 32 * 32 * 3)\n",
        "test_image_rows = test_image.reshape(test_image.shape[0], 32 * 32 * 3)"
      ],
      "execution_count": null,
      "outputs": []
    },
    {
      "cell_type": "code",
      "metadata": {
        "id": "8O6joaJbVKwC"
      },
      "source": [
        "import numpy as np\n",
        "class Image:\n",
        "  def __init__(self, label, pixels, index, name):\n",
        "    self.label = labels1[index]\n",
        "    self.pixels = image_array1[index]\n",
        "    self.index = index\n",
        "    self.name = \"image {}\".format(index)\n",
        "\n",
        "class TestImage:\n",
        "  def __init__(self, label, pixels, index, name):\n",
        "    self.label  = test_label[index]\n",
        "    self.pixels = test_image[index]\n",
        "    self.index = index\n",
        "    self.name = \"test image {}\".format(index)\n",
        "\n",
        "array = []\n",
        "test_array = []\n",
        "length = len(labels1)\n",
        "for i in range(0,9999):\n",
        "  index = i\n",
        "  array.append(Image(labels1[i], image_array1[i], index, index))\n",
        "\n",
        "for i in range(0,9999):\n",
        "  index = i \n",
        "  test_array.append(TestImage(labels1[i], image_array1[i], index, index))"
      ],
      "execution_count": null,
      "outputs": []
    },
    {
      "cell_type": "code",
      "metadata": {
        "id": "QFilZXYCiIr9"
      },
      "source": [
        "diff = 9999999\n",
        "\n",
        "for i in range(0, 9999):\n",
        "  diff_temp = np.sum(test_array[0].pixels - array[i].pixels)\n",
        "  if diff_temp < diff:\n",
        "    diff = diff_temp\n",
        "    location = i\n",
        "\n",
        "\n",
        "print(diff)\n",
        "print(test_array[0].label)\n",
        "print(array[location].label)\n",
        "print(array[location].pixels)"
      ],
      "execution_count": null,
      "outputs": []
    },
    {
      "cell_type": "code",
      "metadata": {
        "colab": {
          "base_uri": "https://localhost:8080/"
        },
        "id": "7BR76Kpd2Gl2",
        "outputId": "e7c3575c-fd98-4a0e-a551-474d6f990343"
      },
      "source": [
        "\n",
        "counter = 0\n",
        "i = 0\n",
        "j = 0\n",
        "for i in range(0, 100):\n",
        "  diff = 999999999999999\n",
        "  for j in range(0, 100):\n",
        "    diff_temp = abs(np.sum(test_array[i].pixels - array[j].pixels))\n",
        "    if diff_temp < diff:\n",
        "        diff = diff_temp\n",
        "        location = j\n",
        "  if test_array[i].label == array[location].label:\n",
        "    \n",
        "    counter += 1  \n",
        "      \n",
        "print(counter)\n",
        "  "
      ],
      "execution_count": null,
      "outputs": [
        {
          "output_type": "stream",
          "name": "stdout",
          "text": [
            "14\n"
          ]
        }
      ]
    },
    {
      "cell_type": "code",
      "metadata": {
        "id": "iPl9K5h1QB-z"
      },
      "source": [
        "Xtr, Ytr = image_array1, labels1  \n",
        "Xte, Yte = test_image, test_label"
      ],
      "execution_count": null,
      "outputs": []
    },
    {
      "cell_type": "code",
      "metadata": {
        "id": "R5L6_qn4Uj1y"
      },
      "source": [
        "Xtr_rows = Xtr.reshape(Xtr.shape[0], 32 * 32 * 3)\n",
        "Xte_rows = Xte.reshape(Xte.shape[0], 32 * 32 * 3)"
      ],
      "execution_count": null,
      "outputs": []
    },
    {
      "cell_type": "code",
      "metadata": {
        "colab": {
          "base_uri": "https://localhost:8080/"
        },
        "id": "WVarKyTNV2CI",
        "outputId": "65bc7017-9b72-44a1-f74c-9236a4dfd159"
      },
      "source": [
        "import numpy as np\n",
        "\n",
        "class NearestNeighbor(object):\n",
        "  def __init__(self):\n",
        "    pass\n",
        "\n",
        "  def train(self, X, y):\n",
        "    \"\"\" X is N x D where each row is an example. Y is 1-dimension of size N \"\"\"\n",
        "    # the nearest neighbor classifier simply remembers all the training data\n",
        "    self.Xtr = X\n",
        "    self.ytr = y\n",
        "\n",
        "  def predict(self, X):\n",
        "    \"\"\" X is N x D where each row is an example we wish to predict label for \"\"\"\n",
        "    num_test = X.shape[0]\n",
        "    # lets make sure that the output type matches the input type\n",
        "    Ypred = np.zeros(num_test)\n",
        "\n",
        "    # loop over all test rows\n",
        "    for i in range(num_test):\n",
        "      # find the nearest training image to the i'th test image\n",
        "      # using the L1 distance (sum of absolute value differences)\n",
        "      distances = np.sum(np.abs(self.Xtr - X[i,:]), axis = 1)\n",
        "      min_index = np.argmin(distances) # get the index with smallest distance\n",
        "      Ypred[i] = self.ytr[min_index] # predict the label of the nearest example\n",
        "\n",
        "    return Ypred\n",
        "\n",
        "\n",
        "nn = NearestNeighbor() # create a Nearest Neighbor classifier class\n",
        "nn.train(Xtr_rows, Ytr) # train the classifier on the training images and labels\n",
        "Yte_predict = nn.predict(Xte_rows) # predict labels on the test images\n",
        "# and now print the classification accuracy, which is the average number\n",
        "# of examples that are correctly predicted (i.e. label matches)\n",
        "print(np.mean(Yte_predict == Yte))"
      ],
      "execution_count": null,
      "outputs": [
        {
          "name": "stdout",
          "output_type": "stream",
          "text": [
            "0.2176\n"
          ]
        }
      ]
    }
  ]
}